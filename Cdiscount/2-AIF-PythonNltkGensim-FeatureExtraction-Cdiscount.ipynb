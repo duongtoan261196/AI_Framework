{
 "cells": [
  {
   "cell_type": "markdown",
   "metadata": {},
   "source": [
    "<center>\n",
    "<a href=\"http://www.insa-toulouse.fr/\" ><img src=\"http://www.math.univ-toulouse.fr/~besse/Wikistat/Images/logo-insa.jpg\" style=\"float:left; max-width: 120px; display: inline\" alt=\"INSA\"/></a> \n",
    "\n",
    "<a href=\"http://wikistat.fr/\" ><img src=\"http://www.math.univ-toulouse.fr/~besse/Wikistat/Images/wikistat.jpg\" style=\"max-width: 250px; display: inline\"  alt=\"Wikistat\"/></a>\n",
    "\n",
    "<a href=\"http://www.math.univ-toulouse.fr/\" ><img src=\"http://www.math.univ-toulouse.fr/~besse/Wikistat/Images/logo_imt.jpg\" style=\"float:right; max-width: 250px; display: inline\" alt=\"IMT\"/> </a>\n",
    "</center>"
   ]
  },
  {
   "cell_type": "markdown",
   "metadata": {},
   "source": [
    "# Construction des caractéristiques ou *features*\n",
    "\n",
    "Les données textuelles ne peuvent pas être utilisés directment dans les différents algorithmes de d'apprentissage statistiques. Nous allons voir dans ce tutoriel plusieurs technique permettant de traduires les données textuelles sous formes de vecteur numérique : \n",
    "\n",
    "\n",
    "Nombresue fonction de vectorisation présente dans scikit-learn :\n",
    "\n",
    "* `One-Hot-Encoder`\n",
    "* `Tf-Idf`\n",
    "* `Hashing`\n",
    "\n",
    "Word Embedding dans la librairies gensim :\n",
    "\n",
    "* `Word2Vec`\n"
   ]
  },
  {
   "cell_type": "markdown",
   "metadata": {},
   "source": [
    "## Téléchargement des librairies"
   ]
  },
  {
   "cell_type": "code",
   "execution_count": 1,
   "metadata": {
    "code_folding": []
   },
   "outputs": [
    {
     "name": "stderr",
     "output_type": "stream",
     "text": [
      "/Users/bguillouet/anaconda/envs/TPInsa/lib/python3.5/site-packages/sklearn/cross_validation.py:41: DeprecationWarning: This module was deprecated in version 0.18 in favor of the model_selection module into which all the refactored classes and functions are moved. Also note that the interface of the new CV iterators are different from that of this module. This module will be removed in 0.20.\n",
      "  \"This module will be removed in 0.20.\", DeprecationWarning)\n"
     ]
    }
   ],
   "source": [
    "#Importation des librairies utilisées\n",
    "import time\n",
    "import pandas as pd\n",
    "import numpy as np\n",
    "import collections\n",
    "import itertools\n",
    "import os\n",
    "import warnings\n",
    "warnings.filterwarnings('ignore')\n",
    "\n",
    "\n",
    "from sklearn.cross_validation import train_test_split"
   ]
  },
  {
   "cell_type": "markdown",
   "metadata": {},
   "source": [
    "## Téléchargement des données"
   ]
  },
  {
   "cell_type": "code",
   "execution_count": 2,
   "metadata": {
    "collapsed": true
   },
   "outputs": [],
   "source": [
    "data_valid_clean_stem = pd.read_csv(\"data/cdiscount_valid_clean_stem.csv\").fillna(\"\")\n",
    "data_train_clean_stem = pd.read_csv(\"data/cdiscount_train_clean_stem.csv\").fillna(\"\")"
   ]
  },
  {
   "cell_type": "markdown",
   "metadata": {},
   "source": [
    "On créé un dossier dans lequel nous allons sauvegarder les DataFrame constitués des features que l'on va construire dans ce notebook "
   ]
  },
  {
   "cell_type": "code",
   "execution_count": null,
   "metadata": {
    "collapsed": true
   },
   "outputs": [],
   "source": []
  },
  {
   "cell_type": "code",
   "execution_count": 3,
   "metadata": {
    "collapsed": true
   },
   "outputs": [],
   "source": [
    "DATA_OUTPUT_DIR = \"data/features\"\n",
    "if not(os.path.isdir(\"data/features\")):\n",
    "    os.mkdir(\"data/features\")"
   ]
  },
  {
   "cell_type": "markdown",
   "metadata": {},
   "source": [
    "Dans un premier temps on considère seulement la colonne *Description* de nos `DataFrame`"
   ]
  },
  {
   "cell_type": "code",
   "execution_count": 4,
   "metadata": {
    "collapsed": true
   },
   "outputs": [],
   "source": [
    "train_array = data_train_clean_stem[\"Description\"].values\n",
    "valid_array = data_valid_clean_stem[\"Description\"].values"
   ]
  },
  {
   "cell_type": "markdown",
   "metadata": {},
   "source": [
    "## Vectorisaton"
   ]
  },
  {
   "cell_type": "markdown",
   "metadata": {},
   "source": [
    "### One-Hot-Encoding\n",
    "\n",
    "* **One-Hot-Encoding** ...\n",
    "\n",
    "possibilité de ngram/Decrire les paramèttr"
   ]
  },
  {
   "cell_type": "code",
   "execution_count": 5,
   "metadata": {},
   "outputs": [
    {
     "data": {
      "text/plain": [
       "<95000x56578 sparse matrix of type '<class 'numpy.int64'>'\n",
       "\twith 1118684 stored elements in Compressed Sparse Row format>"
      ]
     },
     "execution_count": 5,
     "metadata": {},
     "output_type": "execute_result"
    }
   ],
   "source": [
    "from sklearn.feature_extraction.text import CountVectorizer\n",
    "\n",
    "extr_cv = CountVectorizer(binary=False)\n",
    "data_train_OHE = extr_cv.fit_transform(train_array)\n",
    "data_train_OHE"
   ]
  },
  {
   "cell_type": "code",
   "execution_count": 6,
   "metadata": {},
   "outputs": [
    {
     "data": {
      "text/plain": [
       "56578"
      ]
     },
     "execution_count": 6,
     "metadata": {},
     "output_type": "execute_result"
    }
   ],
   "source": [
    "vocabulary = extr_cv.get_feature_names()\n",
    "N_vocabulary = len(vocabulary)\n",
    "N_vocabulary"
   ]
  },
  {
   "cell_type": "markdown",
   "metadata": {},
   "source": [
    "Affiche la première ligne"
   ]
  },
  {
   "cell_type": "code",
   "execution_count": 7,
   "metadata": {},
   "outputs": [
    {
     "name": "stdout",
     "output_type": "stream",
     "text": [
      "spac play clark alison spac play clark alison voir present\n"
     ]
    },
    {
     "data": {
      "text/html": [
       "<div>\n",
       "<style>\n",
       "    .dataframe thead tr:only-child th {\n",
       "        text-align: right;\n",
       "    }\n",
       "\n",
       "    .dataframe thead th {\n",
       "        text-align: left;\n",
       "    }\n",
       "\n",
       "    .dataframe tbody tr th {\n",
       "        vertical-align: top;\n",
       "    }\n",
       "</style>\n",
       "<table border=\"1\" class=\"dataframe\">\n",
       "  <thead>\n",
       "    <tr style=\"text-align: right;\">\n",
       "      <th></th>\n",
       "      <th>indices</th>\n",
       "      <th>token</th>\n",
       "      <th>weight</th>\n",
       "    </tr>\n",
       "  </thead>\n",
       "  <tbody>\n",
       "    <tr>\n",
       "      <th>0</th>\n",
       "      <td>41158</td>\n",
       "      <td>present</td>\n",
       "      <td>1</td>\n",
       "    </tr>\n",
       "    <tr>\n",
       "      <th>1</th>\n",
       "      <td>54390</td>\n",
       "      <td>voir</td>\n",
       "      <td>1</td>\n",
       "    </tr>\n",
       "    <tr>\n",
       "      <th>2</th>\n",
       "      <td>1463</td>\n",
       "      <td>alison</td>\n",
       "      <td>2</td>\n",
       "    </tr>\n",
       "    <tr>\n",
       "      <th>3</th>\n",
       "      <td>10365</td>\n",
       "      <td>clark</td>\n",
       "      <td>2</td>\n",
       "    </tr>\n",
       "    <tr>\n",
       "      <th>4</th>\n",
       "      <td>39980</td>\n",
       "      <td>play</td>\n",
       "      <td>2</td>\n",
       "    </tr>\n",
       "    <tr>\n",
       "      <th>5</th>\n",
       "      <td>48027</td>\n",
       "      <td>spac</td>\n",
       "      <td>2</td>\n",
       "    </tr>\n",
       "  </tbody>\n",
       "</table>\n",
       "</div>"
      ],
      "text/plain": [
       "   indices    token  weight\n",
       "0    41158  present       1\n",
       "1    54390     voir       1\n",
       "2     1463   alison       2\n",
       "3    10365    clark       2\n",
       "4    39980     play       2\n",
       "5    48027     spac       2"
      ]
     },
     "execution_count": 7,
     "metadata": {},
     "output_type": "execute_result"
    }
   ],
   "source": [
    "ir = 0\n",
    "\n",
    "rw = data_train_OHE.getrow(ir)\n",
    "print(train_array[ir])\n",
    "pd.DataFrame([(v, vocabulary[v], k)  for k,v in zip(rw.data,rw.indices)], columns=[\"indices\",\"token\",\"weight\"])\n"
   ]
  },
  {
   "cell_type": "code",
   "execution_count": 8,
   "metadata": {},
   "outputs": [
    {
     "data": {
      "text/plain": [
       "<5000x56578 sparse matrix of type '<class 'numpy.int64'>'\n",
       "\twith 57336 stored elements in Compressed Sparse Row format>"
      ]
     },
     "execution_count": 8,
     "metadata": {},
     "output_type": "execute_result"
    }
   ],
   "source": [
    "data_valid_OHE = extr_cv.transform(valid_array)\n",
    "data_valid_OHE"
   ]
  },
  {
   "cell_type": "code",
   "execution_count": 9,
   "metadata": {},
   "outputs": [
    {
     "name": "stdout",
     "output_type": "stream",
     "text": [
      "tuyau arrosag flexiblecaracterist doubl couch sup fort durabl ultra leg peut absolu tordr etir fois\n"
     ]
    },
    {
     "data": {
      "text/html": [
       "<div>\n",
       "<style>\n",
       "    .dataframe thead tr:only-child th {\n",
       "        text-align: right;\n",
       "    }\n",
       "\n",
       "    .dataframe thead th {\n",
       "        text-align: left;\n",
       "    }\n",
       "\n",
       "    .dataframe tbody tr th {\n",
       "        vertical-align: top;\n",
       "    }\n",
       "</style>\n",
       "<table border=\"1\" class=\"dataframe\">\n",
       "  <thead>\n",
       "    <tr style=\"text-align: right;\">\n",
       "      <th></th>\n",
       "      <th>indices</th>\n",
       "      <th>token</th>\n",
       "      <th>weight</th>\n",
       "    </tr>\n",
       "  </thead>\n",
       "  <tbody>\n",
       "    <tr>\n",
       "      <th>0</th>\n",
       "      <td>272</td>\n",
       "      <td>absolu</td>\n",
       "      <td>1</td>\n",
       "    </tr>\n",
       "    <tr>\n",
       "      <th>1</th>\n",
       "      <td>3109</td>\n",
       "      <td>arrosag</td>\n",
       "      <td>1</td>\n",
       "    </tr>\n",
       "    <tr>\n",
       "      <th>2</th>\n",
       "      <td>12212</td>\n",
       "      <td>couch</td>\n",
       "      <td>1</td>\n",
       "    </tr>\n",
       "    <tr>\n",
       "      <th>3</th>\n",
       "      <td>15850</td>\n",
       "      <td>doubl</td>\n",
       "      <td>1</td>\n",
       "    </tr>\n",
       "    <tr>\n",
       "      <th>4</th>\n",
       "      <td>16364</td>\n",
       "      <td>durabl</td>\n",
       "      <td>1</td>\n",
       "    </tr>\n",
       "    <tr>\n",
       "      <th>5</th>\n",
       "      <td>18743</td>\n",
       "      <td>etir</td>\n",
       "      <td>1</td>\n",
       "    </tr>\n",
       "    <tr>\n",
       "      <th>6</th>\n",
       "      <td>20661</td>\n",
       "      <td>fois</td>\n",
       "      <td>1</td>\n",
       "    </tr>\n",
       "    <tr>\n",
       "      <th>7</th>\n",
       "      <td>20859</td>\n",
       "      <td>fort</td>\n",
       "      <td>1</td>\n",
       "    </tr>\n",
       "    <tr>\n",
       "      <th>8</th>\n",
       "      <td>29823</td>\n",
       "      <td>leg</td>\n",
       "      <td>1</td>\n",
       "    </tr>\n",
       "    <tr>\n",
       "      <th>9</th>\n",
       "      <td>39292</td>\n",
       "      <td>peut</td>\n",
       "      <td>1</td>\n",
       "    </tr>\n",
       "    <tr>\n",
       "      <th>10</th>\n",
       "      <td>49279</td>\n",
       "      <td>sup</td>\n",
       "      <td>1</td>\n",
       "    </tr>\n",
       "    <tr>\n",
       "      <th>11</th>\n",
       "      <td>52461</td>\n",
       "      <td>tuyau</td>\n",
       "      <td>1</td>\n",
       "    </tr>\n",
       "    <tr>\n",
       "      <th>12</th>\n",
       "      <td>52702</td>\n",
       "      <td>ultra</td>\n",
       "      <td>1</td>\n",
       "    </tr>\n",
       "  </tbody>\n",
       "</table>\n",
       "</div>"
      ],
      "text/plain": [
       "    indices    token  weight\n",
       "0       272   absolu       1\n",
       "1      3109  arrosag       1\n",
       "2     12212    couch       1\n",
       "3     15850    doubl       1\n",
       "4     16364   durabl       1\n",
       "5     18743     etir       1\n",
       "6     20661     fois       1\n",
       "7     20859     fort       1\n",
       "8     29823      leg       1\n",
       "9     39292     peut       1\n",
       "10    49279      sup       1\n",
       "11    52461    tuyau       1\n",
       "12    52702    ultra       1"
      ]
     },
     "execution_count": 9,
     "metadata": {},
     "output_type": "execute_result"
    }
   ],
   "source": [
    "ir = 5\n",
    "\n",
    "rw = data_valid_OHE.getrow(ir)\n",
    "print(valid_array[ir])\n",
    "pd.DataFrame([(v, vocabulary[v], k)  for k,v in zip(rw.data,rw.indices)], columns=[\"indices\",\"token\",\"weight\"])\n"
   ]
  },
  {
   "cell_type": "markdown",
   "metadata": {},
   "source": [
    "### TF-IDF¶\n",
    "\n",
    "* **TF-IDF**. Le TF-IDF permet de faire ressortir l'importance relative de chaque mot $m$ (ou couples de mots consécutifs) dans un texte-produit ou un descriptif $d$, par rapport à la liste entière des produits. La fonction $TF(m,d)$ compte le nombre d'occurences du mot $m$ dans le descriptif $d$. La fonction $IDF(m)$ mesure l'importance du terme dans l'ensemble des documents ou descriptifs en donnant plus de poids aux termes les moins fréquents car considérés comme les plus discriminants (motivation analogue à celle de la métrique du chi2 en anamlyse des correspondance). $IDF(m,l)=\\log\\frac{D}{f(m)}$ où $D$ est le nombre de documents, la taille de l'échantillon d'apprentissage, et $f(m)$ le nombre de documents ou descriptifs contenant le mot $m$. La nouvelle variable ou *features* est $V_m(l)=TF(m,l)\\times IDF(m,l)$.\n",
    "\n",
    "* Comme pour les transformations des variables quantitatives (centrage, réduction), la même transformation c'est-à-dire les mêmes pondérations, est calculée sur l'achantillon d'apprentissage et appliquée à celui de test."
   ]
  },
  {
   "cell_type": "markdown",
   "metadata": {},
   "source": [
    "On utiliser la fonction TfidfVectorizer qui permet de parser également le texte\n",
    "\n",
    "On fixe le paramètre `norm` = False pour rendre les résultats plus explicite "
   ]
  },
  {
   "cell_type": "code",
   "execution_count": 10,
   "metadata": {},
   "outputs": [
    {
     "data": {
      "text/plain": [
       "<95000x56578 sparse matrix of type '<class 'numpy.float64'>'\n",
       "\twith 1118684 stored elements in Compressed Sparse Row format>"
      ]
     },
     "execution_count": 10,
     "metadata": {},
     "output_type": "execute_result"
    }
   ],
   "source": [
    "from sklearn.feature_extraction.text import TfidfVectorizer\n",
    "\n",
    "vec = TfidfVectorizer( ngram_range=(1,1), norm = False)\n",
    "data_train_TFIDF = vec.fit_transform(train_array)\n",
    "data_train_TFIDF"
   ]
  },
  {
   "cell_type": "code",
   "execution_count": 11,
   "metadata": {},
   "outputs": [
    {
     "data": {
      "text/plain": [
       "56578"
      ]
     },
     "execution_count": 11,
     "metadata": {},
     "output_type": "execute_result"
    }
   ],
   "source": [
    "vocabulary = vec.get_feature_names()\n",
    "N_vocabulary = len(vocabulary)\n",
    "N_vocabulary"
   ]
  },
  {
   "cell_type": "code",
   "execution_count": 12,
   "metadata": {},
   "outputs": [
    {
     "name": "stdout",
     "output_type": "stream",
     "text": [
      "spac play clark alison spac play clark alison voir present\n"
     ]
    },
    {
     "data": {
      "text/html": [
       "<div>\n",
       "<style>\n",
       "    .dataframe thead tr:only-child th {\n",
       "        text-align: right;\n",
       "    }\n",
       "\n",
       "    .dataframe thead th {\n",
       "        text-align: left;\n",
       "    }\n",
       "\n",
       "    .dataframe tbody tr th {\n",
       "        vertical-align: top;\n",
       "    }\n",
       "</style>\n",
       "<table border=\"1\" class=\"dataframe\">\n",
       "  <thead>\n",
       "    <tr style=\"text-align: right;\">\n",
       "      <th></th>\n",
       "      <th>indices</th>\n",
       "      <th>token</th>\n",
       "      <th>idf</th>\n",
       "      <th>weight</th>\n",
       "    </tr>\n",
       "  </thead>\n",
       "  <tbody>\n",
       "    <tr>\n",
       "      <th>0</th>\n",
       "      <td>48027</td>\n",
       "      <td>spac</td>\n",
       "      <td>9.060445</td>\n",
       "      <td>18.120891</td>\n",
       "    </tr>\n",
       "    <tr>\n",
       "      <th>1</th>\n",
       "      <td>39980</td>\n",
       "      <td>play</td>\n",
       "      <td>8.302760</td>\n",
       "      <td>16.605519</td>\n",
       "    </tr>\n",
       "    <tr>\n",
       "      <th>2</th>\n",
       "      <td>10365</td>\n",
       "      <td>clark</td>\n",
       "      <td>9.628429</td>\n",
       "      <td>19.256859</td>\n",
       "    </tr>\n",
       "    <tr>\n",
       "      <th>3</th>\n",
       "      <td>1463</td>\n",
       "      <td>alison</td>\n",
       "      <td>9.976736</td>\n",
       "      <td>19.953472</td>\n",
       "    </tr>\n",
       "    <tr>\n",
       "      <th>4</th>\n",
       "      <td>54390</td>\n",
       "      <td>voir</td>\n",
       "      <td>1.334998</td>\n",
       "      <td>1.334998</td>\n",
       "    </tr>\n",
       "    <tr>\n",
       "      <th>5</th>\n",
       "      <td>41158</td>\n",
       "      <td>present</td>\n",
       "      <td>1.341449</td>\n",
       "      <td>1.341449</td>\n",
       "    </tr>\n",
       "  </tbody>\n",
       "</table>\n",
       "</div>"
      ],
      "text/plain": [
       "   indices    token       idf     weight\n",
       "0    48027     spac  9.060445  18.120891\n",
       "1    39980     play  8.302760  16.605519\n",
       "2    10365    clark  9.628429  19.256859\n",
       "3     1463   alison  9.976736  19.953472\n",
       "4    54390     voir  1.334998   1.334998\n",
       "5    41158  present  1.341449   1.341449"
      ]
     },
     "execution_count": 12,
     "metadata": {},
     "output_type": "execute_result"
    }
   ],
   "source": [
    "ir = 0\n",
    "\n",
    "rw = data_train_TFIDF.getrow(ir)\n",
    "print(train_array[ir])\n",
    "pd.DataFrame([(v, vocabulary[v], vec.idf_[v], k)  for k,v in zip(rw.data,rw.indices)], columns=[\"indices\",\"token\",\"idf\",\"weight\"])\n"
   ]
  },
  {
   "cell_type": "markdown",
   "metadata": {},
   "source": [
    "Commentez, Comment evolue les poids en changeant les paramètre smooth idf, sublinear_tf?\n",
    "\n",
    "En cchangean le nombre de ngram?"
   ]
  },
  {
   "cell_type": "markdown",
   "metadata": {},
   "source": [
    "On applique maintenant le `vectorizer` sur le jeu de données de validation"
   ]
  },
  {
   "cell_type": "code",
   "execution_count": 13,
   "metadata": {},
   "outputs": [
    {
     "data": {
      "text/plain": [
       "<5000x56578 sparse matrix of type '<class 'numpy.float64'>'\n",
       "\twith 57336 stored elements in Compressed Sparse Row format>"
      ]
     },
     "execution_count": 13,
     "metadata": {},
     "output_type": "execute_result"
    }
   ],
   "source": [
    "data_valid_TFIDF = vec.transform(valid_array)\n",
    "data_valid_TFIDF"
   ]
  },
  {
   "cell_type": "markdown",
   "metadata": {},
   "source": [
    "Si le tf est recalculé pour chaque ligne, le même idf est utilisé"
   ]
  },
  {
   "cell_type": "code",
   "execution_count": 14,
   "metadata": {},
   "outputs": [
    {
     "name": "stdout",
     "output_type": "stream",
     "text": [
      "tuyau arrosag flexiblecaracterist doubl couch sup fort durabl ultra leg peut absolu tordr etir fois\n"
     ]
    },
    {
     "data": {
      "text/html": [
       "<div>\n",
       "<style>\n",
       "    .dataframe thead tr:only-child th {\n",
       "        text-align: right;\n",
       "    }\n",
       "\n",
       "    .dataframe thead th {\n",
       "        text-align: left;\n",
       "    }\n",
       "\n",
       "    .dataframe tbody tr th {\n",
       "        vertical-align: top;\n",
       "    }\n",
       "</style>\n",
       "<table border=\"1\" class=\"dataframe\">\n",
       "  <thead>\n",
       "    <tr style=\"text-align: right;\">\n",
       "      <th></th>\n",
       "      <th>indices</th>\n",
       "      <th>token</th>\n",
       "      <th>idf</th>\n",
       "      <th>weight</th>\n",
       "    </tr>\n",
       "  </thead>\n",
       "  <tbody>\n",
       "    <tr>\n",
       "      <th>0</th>\n",
       "      <td>52702</td>\n",
       "      <td>ultra</td>\n",
       "      <td>3.430309</td>\n",
       "      <td>3.430309</td>\n",
       "    </tr>\n",
       "    <tr>\n",
       "      <th>1</th>\n",
       "      <td>52461</td>\n",
       "      <td>tuyau</td>\n",
       "      <td>8.198963</td>\n",
       "      <td>8.198963</td>\n",
       "    </tr>\n",
       "    <tr>\n",
       "      <th>2</th>\n",
       "      <td>49279</td>\n",
       "      <td>sup</td>\n",
       "      <td>6.699591</td>\n",
       "      <td>6.699591</td>\n",
       "    </tr>\n",
       "    <tr>\n",
       "      <th>3</th>\n",
       "      <td>39292</td>\n",
       "      <td>peut</td>\n",
       "      <td>6.347961</td>\n",
       "      <td>6.347961</td>\n",
       "    </tr>\n",
       "    <tr>\n",
       "      <th>4</th>\n",
       "      <td>29823</td>\n",
       "      <td>leg</td>\n",
       "      <td>6.354620</td>\n",
       "      <td>6.354620</td>\n",
       "    </tr>\n",
       "    <tr>\n",
       "      <th>5</th>\n",
       "      <td>20859</td>\n",
       "      <td>fort</td>\n",
       "      <td>7.418218</td>\n",
       "      <td>7.418218</td>\n",
       "    </tr>\n",
       "    <tr>\n",
       "      <th>6</th>\n",
       "      <td>20661</td>\n",
       "      <td>fois</td>\n",
       "      <td>6.518843</td>\n",
       "      <td>6.518843</td>\n",
       "    </tr>\n",
       "    <tr>\n",
       "      <th>7</th>\n",
       "      <td>18743</td>\n",
       "      <td>etir</td>\n",
       "      <td>9.976736</td>\n",
       "      <td>9.976736</td>\n",
       "    </tr>\n",
       "    <tr>\n",
       "      <th>8</th>\n",
       "      <td>16364</td>\n",
       "      <td>durabl</td>\n",
       "      <td>7.143523</td>\n",
       "      <td>7.143523</td>\n",
       "    </tr>\n",
       "    <tr>\n",
       "      <th>9</th>\n",
       "      <td>15850</td>\n",
       "      <td>doubl</td>\n",
       "      <td>5.823075</td>\n",
       "      <td>5.823075</td>\n",
       "    </tr>\n",
       "    <tr>\n",
       "      <th>10</th>\n",
       "      <td>12212</td>\n",
       "      <td>couch</td>\n",
       "      <td>7.285493</td>\n",
       "      <td>7.285493</td>\n",
       "    </tr>\n",
       "    <tr>\n",
       "      <th>11</th>\n",
       "      <td>3109</td>\n",
       "      <td>arrosag</td>\n",
       "      <td>9.896693</td>\n",
       "      <td>9.896693</td>\n",
       "    </tr>\n",
       "    <tr>\n",
       "      <th>12</th>\n",
       "      <td>272</td>\n",
       "      <td>absolu</td>\n",
       "      <td>8.367298</td>\n",
       "      <td>8.367298</td>\n",
       "    </tr>\n",
       "  </tbody>\n",
       "</table>\n",
       "</div>"
      ],
      "text/plain": [
       "    indices    token       idf    weight\n",
       "0     52702    ultra  3.430309  3.430309\n",
       "1     52461    tuyau  8.198963  8.198963\n",
       "2     49279      sup  6.699591  6.699591\n",
       "3     39292     peut  6.347961  6.347961\n",
       "4     29823      leg  6.354620  6.354620\n",
       "5     20859     fort  7.418218  7.418218\n",
       "6     20661     fois  6.518843  6.518843\n",
       "7     18743     etir  9.976736  9.976736\n",
       "8     16364   durabl  7.143523  7.143523\n",
       "9     15850    doubl  5.823075  5.823075\n",
       "10    12212    couch  7.285493  7.285493\n",
       "11     3109  arrosag  9.896693  9.896693\n",
       "12      272   absolu  8.367298  8.367298"
      ]
     },
     "execution_count": 14,
     "metadata": {},
     "output_type": "execute_result"
    }
   ],
   "source": [
    "ir = 5\n",
    "\n",
    "rw = data_valid_TFIDF.getrow(ir)\n",
    "print(valid_array[ir])\n",
    "pd.DataFrame([(v, vocabulary[v], vec.idf_[v], k)  for k,v in zip(rw.data,rw.indices)], columns=[\"indices\",\"token\",\"idf\",\"weight\"])\n"
   ]
  },
  {
   "cell_type": "markdown",
   "metadata": {},
   "source": [
    "### Hashing"
   ]
  },
  {
   "cell_type": "markdown",
   "metadata": {},
   "source": [
    "* **Hashage**. Il permet de réduire l'espace des variables (taille du dictionnaire) en un nombre limité et fixé a priori `n_hash` de caractéristiques. Il repose sur la définition d'une fonction de hashage, $h$ qui à un indice $j$ défini dans l'espace des entiers naturels, renvoie un indice $i=h(j)$ dans dans l'espace réduit (1 à n_hash) des caractéristiques. Ainsi le poids de l'indice $i$, du nouvel espace, est l'association de tous les poids d'indice $j$ tels que $i=h(j)$ de l'espace originale. Ici, les poids sont associés d'après la méthode décrite par Weinberger et al. (2009).\n",
    "\n",
    "N.B. $h$ n'est pas généré aléatoirement. Ainsi pour un même fichier d'apprentissage (ou de test) et pour un même entier n_hash, le résultat de la fonction de hashage est identique"
   ]
  },
  {
   "cell_type": "markdown",
   "metadata": {},
   "source": [
    "Take a Dictionnary as an input"
   ]
  },
  {
   "cell_type": "code",
   "execution_count": 15,
   "metadata": {
    "collapsed": true
   },
   "outputs": [],
   "source": [
    "from sklearn.feature_extraction import FeatureHasher\n",
    "nb_hash = 300\n",
    "\n",
    "feathash = FeatureHasher(nb_hash)\n",
    "train_dict_array  = map(lambda x : collections.Counter(x.split(\" \")), train_array)\n",
    "data_train_hash = feathash.fit_transform(train_dict_array)"
   ]
  },
  {
   "cell_type": "code",
   "execution_count": 16,
   "metadata": {},
   "outputs": [
    {
     "data": {
      "text/plain": [
       "<95000x300 sparse matrix of type '<class 'numpy.float64'>'\n",
       "\twith 1092893 stored elements in Compressed Sparse Row format>"
      ]
     },
     "execution_count": 16,
     "metadata": {},
     "output_type": "execute_result"
    }
   ],
   "source": [
    "data_train_hash\n"
   ]
  },
  {
   "cell_type": "code",
   "execution_count": 17,
   "metadata": {},
   "outputs": [
    {
     "name": "stdout",
     "output_type": "stream",
     "text": [
      "spac play clark alison spac play clark alison voir present\n"
     ]
    },
    {
     "data": {
      "text/html": [
       "<div>\n",
       "<style>\n",
       "    .dataframe thead tr:only-child th {\n",
       "        text-align: right;\n",
       "    }\n",
       "\n",
       "    .dataframe thead th {\n",
       "        text-align: left;\n",
       "    }\n",
       "\n",
       "    .dataframe tbody tr th {\n",
       "        vertical-align: top;\n",
       "    }\n",
       "</style>\n",
       "<table border=\"1\" class=\"dataframe\">\n",
       "  <thead>\n",
       "    <tr style=\"text-align: right;\">\n",
       "      <th></th>\n",
       "      <th>indices</th>\n",
       "      <th>weight</th>\n",
       "    </tr>\n",
       "  </thead>\n",
       "  <tbody>\n",
       "    <tr>\n",
       "      <th>0</th>\n",
       "      <td>18</td>\n",
       "      <td>2.0</td>\n",
       "    </tr>\n",
       "    <tr>\n",
       "      <th>1</th>\n",
       "      <td>82</td>\n",
       "      <td>-2.0</td>\n",
       "    </tr>\n",
       "    <tr>\n",
       "      <th>2</th>\n",
       "      <td>200</td>\n",
       "      <td>-2.0</td>\n",
       "    </tr>\n",
       "    <tr>\n",
       "      <th>3</th>\n",
       "      <td>216</td>\n",
       "      <td>-2.0</td>\n",
       "    </tr>\n",
       "    <tr>\n",
       "      <th>4</th>\n",
       "      <td>220</td>\n",
       "      <td>-1.0</td>\n",
       "    </tr>\n",
       "    <tr>\n",
       "      <th>5</th>\n",
       "      <td>274</td>\n",
       "      <td>1.0</td>\n",
       "    </tr>\n",
       "  </tbody>\n",
       "</table>\n",
       "</div>"
      ],
      "text/plain": [
       "   indices  weight\n",
       "0       18     2.0\n",
       "1       82    -2.0\n",
       "2      200    -2.0\n",
       "3      216    -2.0\n",
       "4      220    -1.0\n",
       "5      274     1.0"
      ]
     },
     "execution_count": 17,
     "metadata": {},
     "output_type": "execute_result"
    }
   ],
   "source": [
    "\n",
    "ir = 0\n",
    "\n",
    "rw = data_train_hash.getrow(ir)\n",
    "print(train_array[ir])\n",
    "pd.DataFrame([(v, k)  for k,v in zip(rw.data,rw.indices)], columns=[\"indices\",\"weight\"])\n"
   ]
  },
  {
   "cell_type": "markdown",
   "metadata": {},
   "source": [
    "Reduit la taille de la matrice, MAIS pas de fonction inverse transform. \n",
    "Resultat beaucoup moin facilement compréhensible\n",
    "Efficace que si vraient beaucoup de ligne (>100.000)\n",
    "\n",
    "Il est ensuite possible de passer la nouvelle matrice *hasher* (`data_train_hash`) directement dans un algorithme d'apprentissage, ou bien de combiner ces poids avec une fonction de TFIDF\n",
    "\n",
    "Cette fois la fonction `TFIDFTransformer`est utilisé, ne considère pas les string, mais les tf comme les poids présent"
   ]
  },
  {
   "cell_type": "code",
   "execution_count": 18,
   "metadata": {},
   "outputs": [
    {
     "data": {
      "text/plain": [
       "<95000x300 sparse matrix of type '<class 'numpy.float64'>'\n",
       "\twith 1084522 stored elements in Compressed Sparse Row format>"
      ]
     },
     "execution_count": 18,
     "metadata": {},
     "output_type": "execute_result"
    }
   ],
   "source": [
    "from sklearn.feature_extraction.text import TfidfTransformer\n",
    "\n",
    "vec =  TfidfTransformer(norm = False)\n",
    "data_train_HTfidf = vec.fit_transform(data_train_hash)\n",
    "data_train_HTfidf"
   ]
  },
  {
   "cell_type": "code",
   "execution_count": 19,
   "metadata": {},
   "outputs": [
    {
     "name": "stdout",
     "output_type": "stream",
     "text": [
      "spac play clark alison spac play clark alison voir present\n"
     ]
    },
    {
     "data": {
      "text/html": [
       "<div>\n",
       "<style>\n",
       "    .dataframe thead tr:only-child th {\n",
       "        text-align: right;\n",
       "    }\n",
       "\n",
       "    .dataframe thead th {\n",
       "        text-align: left;\n",
       "    }\n",
       "\n",
       "    .dataframe tbody tr th {\n",
       "        vertical-align: top;\n",
       "    }\n",
       "</style>\n",
       "<table border=\"1\" class=\"dataframe\">\n",
       "  <thead>\n",
       "    <tr style=\"text-align: right;\">\n",
       "      <th></th>\n",
       "      <th>indices</th>\n",
       "      <th>idf_</th>\n",
       "      <th>weight</th>\n",
       "    </tr>\n",
       "  </thead>\n",
       "  <tbody>\n",
       "    <tr>\n",
       "      <th>0</th>\n",
       "      <td>274</td>\n",
       "      <td>1.310749</td>\n",
       "      <td>1.310749</td>\n",
       "    </tr>\n",
       "    <tr>\n",
       "      <th>1</th>\n",
       "      <td>220</td>\n",
       "      <td>1.326776</td>\n",
       "      <td>-1.326776</td>\n",
       "    </tr>\n",
       "    <tr>\n",
       "      <th>2</th>\n",
       "      <td>216</td>\n",
       "      <td>4.443017</td>\n",
       "      <td>-8.886034</td>\n",
       "    </tr>\n",
       "    <tr>\n",
       "      <th>3</th>\n",
       "      <td>200</td>\n",
       "      <td>4.879923</td>\n",
       "      <td>-9.759846</td>\n",
       "    </tr>\n",
       "    <tr>\n",
       "      <th>4</th>\n",
       "      <td>82</td>\n",
       "      <td>4.685108</td>\n",
       "      <td>-9.370215</td>\n",
       "    </tr>\n",
       "    <tr>\n",
       "      <th>5</th>\n",
       "      <td>18</td>\n",
       "      <td>4.540833</td>\n",
       "      <td>9.081666</td>\n",
       "    </tr>\n",
       "  </tbody>\n",
       "</table>\n",
       "</div>"
      ],
      "text/plain": [
       "   indices      idf_    weight\n",
       "0      274  1.310749  1.310749\n",
       "1      220  1.326776 -1.326776\n",
       "2      216  4.443017 -8.886034\n",
       "3      200  4.879923 -9.759846\n",
       "4       82  4.685108 -9.370215\n",
       "5       18  4.540833  9.081666"
      ]
     },
     "execution_count": 19,
     "metadata": {},
     "output_type": "execute_result"
    }
   ],
   "source": [
    "ir = 0\n",
    "\n",
    "rw = data_train_HTfidf.getrow(ir)\n",
    "print(train_array[ir])\n",
    "pd.DataFrame([(v, vec.idf_[v], k)  for k,v in zip(rw.data, rw.indices)], columns=[\"indices\",\"idf_\",\"weight\"])\n"
   ]
  },
  {
   "cell_type": "markdown",
   "metadata": {},
   "source": [
    "### Save Vectorize Vector\n",
    "\n",
    "De nombreux paramètres a regler entraine donc un un très grand nombre de combinaison.\n",
    "\n",
    "ici nous créer seulement par défault 4 jeu de données avec count et TFIDF chacun avec et sans hashin de taille 300.\n",
    "\n",
    "A vous de jouer sur d'autre paramètre nombre de gram, taille de la fonction de hashing, colonne pris en compte ... pour générer d'autre dataset et tester leur influence"
   ]
  },
  {
   "cell_type": "markdown",
   "metadata": {},
   "source": [
    "### Fonction de Vectorisation\n",
    "\n",
    "on créé deux fonctions `vectorizer_train` and `apply_vectorizer` afin de générer automatiquement différent dataframe d'apprentissage et de validation vectorisé."
   ]
  },
  {
   "cell_type": "code",
   "execution_count": 20,
   "metadata": {
    "code_folding": [],
    "collapsed": true
   },
   "outputs": [],
   "source": [
    "def vectorizer_train(df, columns=['Description'], nb_hash=None, nb_gram = 1, vectorizer = \"tfidf\" , binary = False):\n",
    "    \n",
    "    data_array = [\" \".join(line) for line in df[columns].values]\n",
    "    \n",
    "    # Hashage\n",
    "    if nb_hash is None:\n",
    "        feathash = None\n",
    "        if vectorizer == \"tfidf\":\n",
    "            vec = TfidfVectorizer(ngram_range=(1,nb_gram))\n",
    "            data_vec = vec.fit_transform(data_array)\n",
    "        else:\n",
    "            vec = CountVectorizer(binary=binary)\n",
    "            data_vec = vec.fit_transform(data_array)\n",
    "    else:\n",
    "        data_dic_array = [collections.Counter(line.split(\" \")) for line in data_array]\n",
    "        feathash = FeatureHasher(nb_hash)\n",
    "        data_hash = feathash.fit_transform(data_dic_array)\n",
    "        \n",
    "        if vectorizer==\"tfidf\":\n",
    "            vec =  TfidfTransformer()\n",
    "            data_vec =  vec.fit_transform(data_hash)\n",
    "        else:\n",
    "            vec = None\n",
    "            data_vec = data_hash\n",
    "\n",
    "    return vec, feathash, data_vec\n",
    "\n",
    "\n",
    "\n",
    "def apply_vectorizer(df, vec, feathash, columns =['Description', 'Libelle', 'Marque']):\n",
    "    \n",
    "    data_array = [\" \".join(line) for line in df[columns].values]\n",
    "    \n",
    "    #Hashage\n",
    "    if feathash is None:\n",
    "        data_hash = data_array\n",
    "    else:\n",
    "        data_dic_array = [collections.Counter(line.split(\" \")) for line in data_array]\n",
    "        data_hash = feathash.transform(data_dic_array)\n",
    "    \n",
    "    if vec is None:\n",
    "        data_vec = data_hash\n",
    "    else:\n",
    "        data_vec = vec.transform(data_hash)\n",
    "    return data_vec\n"
   ]
  },
  {
   "cell_type": "code",
   "execution_count": 21,
   "metadata": {},
   "outputs": [
    {
     "name": "stdout",
     "output_type": "stream",
     "text": [
      "nb_hash : None, vectorizer : count\n",
      "Runing time for vectorization : 2.2 seconds\n",
      "Train shape : (95000, 56578)\n",
      "Valid shape : (5000, 56578)\n",
      "nb_hash : 300, vectorizer : count\n",
      "Runing time for vectorization : 1.8 seconds\n",
      "Train shape : (95000, 300)\n",
      "Valid shape : (5000, 300)\n",
      "nb_hash : 10000, vectorizer : count\n",
      "Runing time for vectorization : 1.9 seconds\n",
      "Train shape : (95000, 10000)\n",
      "Valid shape : (5000, 10000)\n",
      "nb_hash : None, vectorizer : tfidf\n",
      "Runing time for vectorization : 2.3 seconds\n",
      "Train shape : (95000, 56578)\n",
      "Valid shape : (5000, 56578)\n",
      "nb_hash : 300, vectorizer : tfidf\n",
      "Runing time for vectorization : 1.9 seconds\n",
      "Train shape : (95000, 300)\n",
      "Valid shape : (5000, 300)\n",
      "nb_hash : 10000, vectorizer : tfidf\n",
      "Runing time for vectorization : 1.9 seconds\n",
      "Train shape : (95000, 10000)\n",
      "Valid shape : (5000, 10000)\n"
     ]
    }
   ],
   "source": [
    "parameters = [[None, \"count\"],\n",
    "              [300, \"count\"],\n",
    "              [10000,\"count\"],\n",
    "              [None, \"tfidf\"],\n",
    "              [300, \"tfidf\"],\n",
    "             [10000,\"tfidf\"]]\n",
    "\n",
    "from scipy import sparse\n",
    "\n",
    "for nb_hash, vectorizer in parameters:\n",
    "    ts = time.time()\n",
    "    vec, feathash, data_train_vec = vectorizer_train(data_train_clean_stem, nb_hash=nb_hash, vectorizer = vectorizer)\n",
    "    data_valid_vec = apply_vectorizer(data_valid_clean_stem, vec, feathash)\n",
    "    te = time.time()\n",
    "    \n",
    "    print(\"nb_hash : \" + str(nb_hash) + \", vectorizer : \" + str(vectorizer))\n",
    "    print(\"Runing time for vectorization : %.1f seconds\" %(te-ts))\n",
    "    print(\"Train shape : \" + str(data_train_vec.shape))\n",
    "    print(\"Valid shape : \" + str(data_valid_vec.shape))\n",
    "\n",
    "    \n",
    "    sparse.save_npz(DATA_OUTPUT_DIR +\"/vec_train_nb_hash_\" + str(nb_hash) + \"_vectorizer_\" + str(vectorizer), data_train_vec)\n",
    "    sparse.save_npz(DATA_OUTPUT_DIR +\"/vec_valid_nb_hash_\" + str(nb_hash) + \"_vectorizer_\" + str(vectorizer), data_valid_vec)\n",
    "    "
   ]
  },
  {
   "cell_type": "markdown",
   "metadata": {},
   "source": [
    "## Word2Vec"
   ]
  },
  {
   "cell_type": "code",
   "execution_count": 22,
   "metadata": {
    "collapsed": true
   },
   "outputs": [],
   "source": [
    "import gensim\n",
    "\n",
    "import nltk \n",
    "stemmer=nltk.stem.SnowballStemmer('french')"
   ]
  },
  {
   "cell_type": "markdown",
   "metadata": {},
   "source": [
    "### Build Word2Vec model"
   ]
  },
  {
   "cell_type": "code",
   "execution_count": 23,
   "metadata": {
    "collapsed": true
   },
   "outputs": [],
   "source": [
    "train_array_token = [line.split(\" \") for line in train_array]\n",
    "valid_array_token = [line.split(\" \") for line in valid_array]"
   ]
  },
  {
   "cell_type": "code",
   "execution_count": 24,
   "metadata": {
    "collapsed": true
   },
   "outputs": [],
   "source": [
    "Features_dimension = 300\n",
    "sg = 1\n",
    "hs = 0\n",
    "negative = 10\n",
    "X = train_array_token\n",
    "N_train = len(X)\n",
    "#sg (int {1, 0}) – Defines the training algorithm. If 1, skip-gram is employed; otherwise, CBOW is used.\n",
    "\n",
    "\n",
    "#hs (int {1,0}) – If 1, hierarchical softmax will be used for model training. \n",
    "#If set to 0, and negative is non-zero, negative sampling will be used.\n",
    "\n",
    "#negative (int) – If > 0, negative sampling will be used, the int for negative specifies how many “noise words” should be drawn (usually between 5-20). \n",
    "#If set to 0, no negative sampling is used"
   ]
  },
  {
   "cell_type": "code",
   "execution_count": 25,
   "metadata": {},
   "outputs": [
    {
     "name": "stdout",
     "output_type": "stream",
     "text": [
      "Start learning Word2Vec learning\n",
      "Params are : Fdim_300_sg_0_hs_0_negative_10_model\n",
      "{'vocab_size': 56579, 'negative': 10, 'hs': 0, 'sg': 0, 'learning_time': 11.873658180236816}\n",
      "Start learning Word2Vec learning\n",
      "Params are : Fdim_300_sg_1_hs_0_negative_10_model\n",
      "{'vocab_size': 56579, 'negative': 10, 'hs': 0, 'sg': 1, 'learning_time': 39.20227599143982}\n"
     ]
    }
   ],
   "source": [
    "model_dic = {}\n",
    "for sg in [0,1]:\n",
    "    print(\"Start learning Word2Vec learning\")\n",
    "    print(\"Params are : Fdim_%d_sg_%d_hs_%d_negative_%d_model\" %(Features_dimension, sg, hs, negative))\n",
    "    ts = time.time()\n",
    "    model = gensim.models.Word2Vec(X, sg=sg, hs=hs, negative=negative, min_count=1, size=Features_dimension)\n",
    "    te = time.time()\n",
    "    t_learning = te-ts\n",
    "\n",
    "    # Metadata\n",
    "    N_vocab, feature_dim = model.wv.vectors.shape\n",
    "    metadata = {\"learning_time\" : t_learning, \"vocab_size\" : N_vocab, \"sg\" : sg, \"negative\": negative, \"hs\":hs}\n",
    "    print(metadata)\n",
    "    \n",
    "    model_name = \"skip-gram\" if sg==1 else \"CBOW\"\n",
    "    model_dic.update({model_name : model})\n",
    "\n",
    "model_online_dir = \"data/fr/fr.bin\"\n",
    "model = gensim.models.Word2Vec.load(model_online_dir)\n",
    "model_dic.update({\"online\" : model})"
   ]
  },
  {
   "cell_type": "markdown",
   "metadata": {},
   "source": [
    "### Most similar world\n",
    "Résultats pertinent seulement si N_train=1.000.000, 100.000 trop peu."
   ]
  },
  {
   "cell_type": "code",
   "execution_count": 26,
   "metadata": {
    "collapsed": true
   },
   "outputs": [],
   "source": [
    "model.predict_output_word([\"homm\"])"
   ]
  },
  {
   "cell_type": "code",
   "execution_count": 27,
   "metadata": {},
   "outputs": [
    {
     "name": "stdout",
     "output_type": "stream",
     "text": [
      "Most similar words for word : homme\n"
     ]
    },
    {
     "data": {
      "text/html": [
       "<div>\n",
       "<style>\n",
       "    .dataframe thead tr:only-child th {\n",
       "        text-align: right;\n",
       "    }\n",
       "\n",
       "    .dataframe thead th {\n",
       "        text-align: left;\n",
       "    }\n",
       "\n",
       "    .dataframe tbody tr th {\n",
       "        vertical-align: top;\n",
       "    }\n",
       "</style>\n",
       "<table border=\"1\" class=\"dataframe\">\n",
       "  <thead>\n",
       "    <tr style=\"text-align: right;\">\n",
       "      <th></th>\n",
       "      <th>CBOW</th>\n",
       "      <th>online</th>\n",
       "      <th>skip-gram</th>\n",
       "    </tr>\n",
       "  </thead>\n",
       "  <tbody>\n",
       "    <tr>\n",
       "      <th>0</th>\n",
       "      <td>femm</td>\n",
       "      <td>aventurier</td>\n",
       "      <td>unisex</td>\n",
       "    </tr>\n",
       "    <tr>\n",
       "      <th>1</th>\n",
       "      <td>unisex</td>\n",
       "      <td>aristocrate</td>\n",
       "      <td>arman</td>\n",
       "    </tr>\n",
       "    <tr>\n",
       "      <th>2</th>\n",
       "      <td>arman</td>\n",
       "      <td>garçon</td>\n",
       "      <td>emporio</td>\n",
       "    </tr>\n",
       "    <tr>\n",
       "      <th>3</th>\n",
       "      <td>xinj</td>\n",
       "      <td>vieillard</td>\n",
       "      <td>chronograph</td>\n",
       "    </tr>\n",
       "    <tr>\n",
       "      <th>4</th>\n",
       "      <td>diesel</td>\n",
       "      <td>délinquant</td>\n",
       "      <td>hommecollect</td>\n",
       "    </tr>\n",
       "    <tr>\n",
       "      <th>5</th>\n",
       "      <td>dachstein</td>\n",
       "      <td>écrivain</td>\n",
       "      <td>army</td>\n",
       "    </tr>\n",
       "    <tr>\n",
       "      <th>6</th>\n",
       "      <td>adh</td>\n",
       "      <td>politicien</td>\n",
       "      <td>adh</td>\n",
       "    </tr>\n",
       "    <tr>\n",
       "      <th>7</th>\n",
       "      <td>norway</td>\n",
       "      <td>escroc</td>\n",
       "      <td>sportsman</td>\n",
       "    </tr>\n",
       "    <tr>\n",
       "      <th>8</th>\n",
       "      <td>geographical</td>\n",
       "      <td>orateur</td>\n",
       "      <td>adid</td>\n",
       "    </tr>\n",
       "    <tr>\n",
       "      <th>9</th>\n",
       "      <td>redskin</td>\n",
       "      <td>érudit</td>\n",
       "      <td>pantalon</td>\n",
       "    </tr>\n",
       "  </tbody>\n",
       "</table>\n",
       "</div>"
      ],
      "text/plain": [
       "           CBOW       online     skip-gram\n",
       "0          femm   aventurier        unisex\n",
       "1        unisex  aristocrate         arman\n",
       "2         arman       garçon       emporio\n",
       "3          xinj    vieillard   chronograph\n",
       "4        diesel   délinquant  hommecollect\n",
       "5     dachstein     écrivain          army\n",
       "6           adh   politicien           adh\n",
       "7        norway       escroc     sportsman\n",
       "8  geographical      orateur          adid\n",
       "9       redskin       érudit      pantalon"
      ]
     },
     "execution_count": 27,
     "metadata": {},
     "output_type": "execute_result"
    }
   ],
   "source": [
    "term=\"homme\"\n",
    "\n",
    "df_ = []\n",
    "columns = []\n",
    "for model_name, model in model_dic.items():\n",
    "    token = stemmer.stem(term) if \"online\"!=model_name else term\n",
    "    mpow = model.wv.most_similar([token])\n",
    "    if mpow is None:\n",
    "        df_.append([\"\" for k in range(10)])\n",
    "    else:\n",
    "        df_.append([k[0] for k in mpow])\n",
    "    columns.append(model_name)\n",
    "print(\"Most similar words for word : \"+term)\n",
    "pd.DataFrame(np.array(df_).T, columns=columns)"
   ]
  },
  {
   "cell_type": "code",
   "execution_count": 28,
   "metadata": {},
   "outputs": [
    {
     "name": "stdout",
     "output_type": "stream",
     "text": [
      "Most similar words for word : femme\n"
     ]
    },
    {
     "data": {
      "text/html": [
       "<div>\n",
       "<style>\n",
       "    .dataframe thead tr:only-child th {\n",
       "        text-align: right;\n",
       "    }\n",
       "\n",
       "    .dataframe thead th {\n",
       "        text-align: left;\n",
       "    }\n",
       "\n",
       "    .dataframe tbody tr th {\n",
       "        vertical-align: top;\n",
       "    }\n",
       "</style>\n",
       "<table border=\"1\" class=\"dataframe\">\n",
       "  <thead>\n",
       "    <tr style=\"text-align: right;\">\n",
       "      <th></th>\n",
       "      <th>CBOW</th>\n",
       "      <th>online</th>\n",
       "      <th>skip-gram</th>\n",
       "    </tr>\n",
       "  </thead>\n",
       "  <tbody>\n",
       "    <tr>\n",
       "      <th>0</th>\n",
       "      <td>homm</td>\n",
       "      <td>servante</td>\n",
       "      <td>unisex</td>\n",
       "    </tr>\n",
       "    <tr>\n",
       "      <th>1</th>\n",
       "      <td>unisex</td>\n",
       "      <td>mère</td>\n",
       "      <td>femmecouleur</td>\n",
       "    </tr>\n",
       "    <tr>\n",
       "      <th>2</th>\n",
       "      <td>fashion</td>\n",
       "      <td>fille</td>\n",
       "      <td>femmecollect</td>\n",
       "    </tr>\n",
       "    <tr>\n",
       "      <th>3</th>\n",
       "      <td>sandal</td>\n",
       "      <td>belle-mère</td>\n",
       "      <td>dkny</td>\n",
       "    </tr>\n",
       "    <tr>\n",
       "      <th>4</th>\n",
       "      <td>ballerin</td>\n",
       "      <td>fiancée</td>\n",
       "      <td>lublin</td>\n",
       "    </tr>\n",
       "    <tr>\n",
       "      <th>5</th>\n",
       "      <td>bottin</td>\n",
       "      <td>compagne</td>\n",
       "      <td>arman</td>\n",
       "    </tr>\n",
       "    <tr>\n",
       "      <th>6</th>\n",
       "      <td>compense</td>\n",
       "      <td>sœur</td>\n",
       "      <td>leandr</td>\n",
       "    </tr>\n",
       "    <tr>\n",
       "      <th>7</th>\n",
       "      <td>contrejour</td>\n",
       "      <td>prostituée</td>\n",
       "      <td>dress</td>\n",
       "    </tr>\n",
       "    <tr>\n",
       "      <th>8</th>\n",
       "      <td>escarpin</td>\n",
       "      <td>nourrice</td>\n",
       "      <td>bred</td>\n",
       "    </tr>\n",
       "    <tr>\n",
       "      <th>9</th>\n",
       "      <td>bicolor</td>\n",
       "      <td>demi-sœur</td>\n",
       "      <td>marroncomposit</td>\n",
       "    </tr>\n",
       "  </tbody>\n",
       "</table>\n",
       "</div>"
      ],
      "text/plain": [
       "         CBOW      online       skip-gram\n",
       "0        homm    servante          unisex\n",
       "1      unisex        mère    femmecouleur\n",
       "2     fashion       fille    femmecollect\n",
       "3      sandal  belle-mère            dkny\n",
       "4    ballerin     fiancée          lublin\n",
       "5      bottin    compagne           arman\n",
       "6    compense        sœur          leandr\n",
       "7  contrejour  prostituée           dress\n",
       "8    escarpin    nourrice            bred\n",
       "9     bicolor   demi-sœur  marroncomposit"
      ]
     },
     "execution_count": 28,
     "metadata": {},
     "output_type": "execute_result"
    }
   ],
   "source": [
    "term=\"femme\"\n",
    "\n",
    "df_ = []\n",
    "columns = []\n",
    "for model_name, model in model_dic.items():\n",
    "    token = stemmer.stem(term) if \"online\"!=model_name else term\n",
    "    mpow = model.wv.most_similar([token])\n",
    "    if mpow is None:\n",
    "        df_.append([\"\" for k in range(10)])\n",
    "    else:\n",
    "        df_.append([k[0] for k in mpow])\n",
    "    columns.append(model_name)\n",
    "print(\"Most similar words for word : \"+term)\n",
    "pd.DataFrame(np.array(df_).T, columns=columns)"
   ]
  },
  {
   "cell_type": "code",
   "execution_count": 29,
   "metadata": {},
   "outputs": [
    {
     "name": "stdout",
     "output_type": "stream",
     "text": [
      "Most similar words for word : xbox\n"
     ]
    },
    {
     "data": {
      "text/html": [
       "<div>\n",
       "<style>\n",
       "    .dataframe thead tr:only-child th {\n",
       "        text-align: right;\n",
       "    }\n",
       "\n",
       "    .dataframe thead th {\n",
       "        text-align: left;\n",
       "    }\n",
       "\n",
       "    .dataframe tbody tr th {\n",
       "        vertical-align: top;\n",
       "    }\n",
       "</style>\n",
       "<table border=\"1\" class=\"dataframe\">\n",
       "  <thead>\n",
       "    <tr style=\"text-align: right;\">\n",
       "      <th></th>\n",
       "      <th>CBOW</th>\n",
       "      <th>online</th>\n",
       "      <th>skip-gram</th>\n",
       "    </tr>\n",
       "  </thead>\n",
       "  <tbody>\n",
       "    <tr>\n",
       "      <th>0</th>\n",
       "      <td>subliminal</td>\n",
       "      <td>playstation</td>\n",
       "      <td>playstat</td>\n",
       "    </tr>\n",
       "    <tr>\n",
       "      <th>1</th>\n",
       "      <td>fchcmax</td>\n",
       "      <td>gamecube</td>\n",
       "      <td>wii</td>\n",
       "    </tr>\n",
       "    <tr>\n",
       "      <th>2</th>\n",
       "      <td>travel</td>\n",
       "      <td>dreamcast</td>\n",
       "      <td>controll</td>\n",
       "    </tr>\n",
       "    <tr>\n",
       "      <th>3</th>\n",
       "      <td>scuf</td>\n",
       "      <td>psp</td>\n",
       "      <td>scuf</td>\n",
       "    </tr>\n",
       "    <tr>\n",
       "      <th>4</th>\n",
       "      <td>visor</td>\n",
       "      <td>wii</td>\n",
       "      <td>microsoft</td>\n",
       "    </tr>\n",
       "    <tr>\n",
       "      <th>5</th>\n",
       "      <td>krakau</td>\n",
       "      <td>neo-geo</td>\n",
       "      <td>unleashed</td>\n",
       "    </tr>\n",
       "    <tr>\n",
       "      <th>6</th>\n",
       "      <td>kingdom</td>\n",
       "      <td>mega</td>\n",
       "      <td>wrath</td>\n",
       "    </tr>\n",
       "    <tr>\n",
       "      <th>7</th>\n",
       "      <td>nomad</td>\n",
       "      <td>advance</td>\n",
       "      <td>nois</td>\n",
       "    </tr>\n",
       "    <tr>\n",
       "      <th>8</th>\n",
       "      <td>unleashed</td>\n",
       "      <td>famicom</td>\n",
       "      <td>cruz</td>\n",
       "    </tr>\n",
       "    <tr>\n",
       "      <th>9</th>\n",
       "      <td>embedded</td>\n",
       "      <td>nintendo</td>\n",
       "      <td>scrib</td>\n",
       "    </tr>\n",
       "  </tbody>\n",
       "</table>\n",
       "</div>"
      ],
      "text/plain": [
       "         CBOW       online  skip-gram\n",
       "0  subliminal  playstation   playstat\n",
       "1     fchcmax     gamecube        wii\n",
       "2      travel    dreamcast   controll\n",
       "3        scuf          psp       scuf\n",
       "4       visor          wii  microsoft\n",
       "5      krakau      neo-geo  unleashed\n",
       "6     kingdom         mega      wrath\n",
       "7       nomad      advance       nois\n",
       "8   unleashed      famicom       cruz\n",
       "9    embedded     nintendo      scrib"
      ]
     },
     "execution_count": 29,
     "metadata": {},
     "output_type": "execute_result"
    }
   ],
   "source": [
    "term=\"xbox\"\n",
    "\n",
    "df_ = []\n",
    "columns = []\n",
    "for model_name, model in model_dic.items():\n",
    "    token = stemmer.stem(term) if \"online\"!=model_name else term\n",
    "    mpow = model.wv.most_similar([token])\n",
    "    if mpow is None:\n",
    "        df_.append([\"\" for k in range(10)])\n",
    "    else:\n",
    "        df_.append([k[0] for k in mpow])\n",
    "    columns.append(model_name)\n",
    "print(\"Most similar words for word : \"+term)\n",
    "pd.DataFrame(np.array(df_).T, columns=columns)"
   ]
  },
  {
   "cell_type": "code",
   "execution_count": 30,
   "metadata": {},
   "outputs": [
    {
     "data": {
      "text/html": [
       "<div>\n",
       "<style>\n",
       "    .dataframe thead tr:only-child th {\n",
       "        text-align: right;\n",
       "    }\n",
       "\n",
       "    .dataframe thead th {\n",
       "        text-align: left;\n",
       "    }\n",
       "\n",
       "    .dataframe tbody tr th {\n",
       "        vertical-align: top;\n",
       "    }\n",
       "</style>\n",
       "<table border=\"1\" class=\"dataframe\">\n",
       "  <thead>\n",
       "    <tr style=\"text-align: right;\">\n",
       "      <th></th>\n",
       "      <th>CBOW</th>\n",
       "      <th>online</th>\n",
       "      <th>skip-gram</th>\n",
       "    </tr>\n",
       "  </thead>\n",
       "  <tbody>\n",
       "    <tr>\n",
       "      <th>0</th>\n",
       "      <td>jungl</td>\n",
       "      <td>reine</td>\n",
       "      <td>bstick</td>\n",
       "    </tr>\n",
       "    <tr>\n",
       "      <th>1</th>\n",
       "      <td>lapin</td>\n",
       "      <td>belle-mère</td>\n",
       "      <td>redecouvr</td>\n",
       "    </tr>\n",
       "    <tr>\n",
       "      <th>2</th>\n",
       "      <td>savan</td>\n",
       "      <td>brunehilde</td>\n",
       "      <td>tendress</td>\n",
       "    </tr>\n",
       "    <tr>\n",
       "      <th>3</th>\n",
       "      <td>calin</td>\n",
       "      <td>régente</td>\n",
       "      <td>jungl</td>\n",
       "    </tr>\n",
       "    <tr>\n",
       "      <th>4</th>\n",
       "      <td>lion</td>\n",
       "      <td>reine-mère</td>\n",
       "      <td>effig</td>\n",
       "    </tr>\n",
       "    <tr>\n",
       "      <th>5</th>\n",
       "      <td>eleph</td>\n",
       "      <td>belle-sœur</td>\n",
       "      <td>licorn</td>\n",
       "    </tr>\n",
       "    <tr>\n",
       "      <th>6</th>\n",
       "      <td>coquelicot</td>\n",
       "      <td>veuve</td>\n",
       "      <td>marionnet</td>\n",
       "    </tr>\n",
       "    <tr>\n",
       "      <th>7</th>\n",
       "      <td>romant</td>\n",
       "      <td>mère</td>\n",
       "      <td>ruin</td>\n",
       "    </tr>\n",
       "    <tr>\n",
       "      <th>8</th>\n",
       "      <td>canard</td>\n",
       "      <td>demi-sœur</td>\n",
       "      <td>collag</td>\n",
       "    </tr>\n",
       "    <tr>\n",
       "      <th>9</th>\n",
       "      <td>amour</td>\n",
       "      <td>nièce</td>\n",
       "      <td>paon</td>\n",
       "    </tr>\n",
       "  </tbody>\n",
       "</table>\n",
       "</div>"
      ],
      "text/plain": [
       "         CBOW      online  skip-gram\n",
       "0       jungl       reine     bstick\n",
       "1       lapin  belle-mère  redecouvr\n",
       "2       savan  brunehilde   tendress\n",
       "3       calin     régente      jungl\n",
       "4        lion  reine-mère      effig\n",
       "5       eleph  belle-sœur     licorn\n",
       "6  coquelicot       veuve  marionnet\n",
       "7      romant        mère       ruin\n",
       "8      canard   demi-sœur     collag\n",
       "9       amour       nièce       paon"
      ]
     },
     "execution_count": 30,
     "metadata": {},
     "output_type": "execute_result"
    }
   ],
   "source": [
    "terms_positif = [\"femme\",\"roi\"]\n",
    "terms_negatif = [\"homme\"]\n",
    "\n",
    "df_ = []\n",
    "columns = []\n",
    "for model_name, model in model_dic.items():\n",
    "    token_positif = [stemmer.stem(term) if \"online\"!=model_name else term for term in terms_positif]\n",
    "    token_negativ = [stemmer.stem(term) if \"online\"!=model_name else term for term in terms_negatif]\n",
    "    \n",
    "    mpow = model.wv.most_similar(positive=token_positif, negative=token_negativ)\n",
    "    if mpow is None:\n",
    "        df_.append([\"\" for k in range(10)])\n",
    "    else:\n",
    "        df_.append([k[0] for k in mpow])\n",
    "    columns.append(model_name)\n",
    "pd.DataFrame(np.array(df_).T, columns=columns)"
   ]
  },
  {
   "cell_type": "code",
   "execution_count": 31,
   "metadata": {},
   "outputs": [
    {
     "data": {
      "text/html": [
       "<div>\n",
       "<style>\n",
       "    .dataframe thead tr:only-child th {\n",
       "        text-align: right;\n",
       "    }\n",
       "\n",
       "    .dataframe thead th {\n",
       "        text-align: left;\n",
       "    }\n",
       "\n",
       "    .dataframe tbody tr th {\n",
       "        vertical-align: top;\n",
       "    }\n",
       "</style>\n",
       "<table border=\"1\" class=\"dataframe\">\n",
       "  <thead>\n",
       "    <tr style=\"text-align: right;\">\n",
       "      <th></th>\n",
       "      <th>CBOW</th>\n",
       "      <th>online</th>\n",
       "      <th>skip-gram</th>\n",
       "    </tr>\n",
       "  </thead>\n",
       "  <tbody>\n",
       "    <tr>\n",
       "      <th>0</th>\n",
       "      <td>flex</td>\n",
       "      <td>ségovie</td>\n",
       "      <td>orlando</td>\n",
       "    </tr>\n",
       "    <tr>\n",
       "      <th>1</th>\n",
       "      <td>inde</td>\n",
       "      <td>madrid</td>\n",
       "      <td>edinburgh</td>\n",
       "    </tr>\n",
       "    <tr>\n",
       "      <th>2</th>\n",
       "      <td>canc</td>\n",
       "      <td>alicante</td>\n",
       "      <td>manil</td>\n",
       "    </tr>\n",
       "    <tr>\n",
       "      <th>3</th>\n",
       "      <td>normand</td>\n",
       "      <td>aix-en-provence</td>\n",
       "      <td>janeiro</td>\n",
       "    </tr>\n",
       "    <tr>\n",
       "      <th>4</th>\n",
       "      <td>gourmandis</td>\n",
       "      <td>ancône</td>\n",
       "      <td>darkf</td>\n",
       "    </tr>\n",
       "    <tr>\n",
       "      <th>5</th>\n",
       "      <td>etire</td>\n",
       "      <td>séville</td>\n",
       "      <td>agra</td>\n",
       "    </tr>\n",
       "    <tr>\n",
       "      <th>6</th>\n",
       "      <td>liberty</td>\n",
       "      <td>malaga</td>\n",
       "      <td>copenhagen</td>\n",
       "    </tr>\n",
       "    <tr>\n",
       "      <th>7</th>\n",
       "      <td>arkans</td>\n",
       "      <td>andalousie</td>\n",
       "      <td>seattl</td>\n",
       "    </tr>\n",
       "    <tr>\n",
       "      <th>8</th>\n",
       "      <td>aquarius</td>\n",
       "      <td>alger</td>\n",
       "      <td>cancun</td>\n",
       "    </tr>\n",
       "    <tr>\n",
       "      <th>9</th>\n",
       "      <td>cancun</td>\n",
       "      <td>avignon</td>\n",
       "      <td>autrich</td>\n",
       "    </tr>\n",
       "  </tbody>\n",
       "</table>\n",
       "</div>"
      ],
      "text/plain": [
       "         CBOW           online   skip-gram\n",
       "0        flex          ségovie     orlando\n",
       "1        inde           madrid   edinburgh\n",
       "2        canc         alicante       manil\n",
       "3     normand  aix-en-provence     janeiro\n",
       "4  gourmandis           ancône       darkf\n",
       "5       etire          séville        agra\n",
       "6     liberty           malaga  copenhagen\n",
       "7      arkans       andalousie      seattl\n",
       "8    aquarius            alger      cancun\n",
       "9      cancun          avignon     autrich"
      ]
     },
     "execution_count": 31,
     "metadata": {},
     "output_type": "execute_result"
    }
   ],
   "source": [
    "terms_positif = [\"espagne\",\"paris\"]\n",
    "terms_negatif = [\"france\"]\n",
    "\n",
    "df_ = []\n",
    "columns = []\n",
    "for model_name, model in model_dic.items():\n",
    "    token_positif = [stemmer.stem(term) if \"online\"!=model_name else term for term in terms_positif]\n",
    "    token_negativ = [stemmer.stem(term) if \"online\"!=model_name else term for term in terms_negatif]\n",
    "    \n",
    "    mpow = model.wv.most_similar(positive=token_positif, negative=token_negativ)\n",
    "    if mpow is None:\n",
    "        df_.append([\"\" for k in range(10)])\n",
    "    else:\n",
    "        df_.append([k[0] for k in mpow])\n",
    "    columns.append(model_name)\n",
    "pd.DataFrame(np.array(df_).T, columns=columns)"
   ]
  },
  {
   "cell_type": "markdown",
   "metadata": {},
   "source": [
    "### Predict output word"
   ]
  },
  {
   "cell_type": "code",
   "execution_count": 32,
   "metadata": {},
   "outputs": [
    {
     "data": {
      "text/html": [
       "<div>\n",
       "<style>\n",
       "    .dataframe thead tr:only-child th {\n",
       "        text-align: right;\n",
       "    }\n",
       "\n",
       "    .dataframe thead th {\n",
       "        text-align: left;\n",
       "    }\n",
       "\n",
       "    .dataframe tbody tr th {\n",
       "        vertical-align: top;\n",
       "    }\n",
       "</style>\n",
       "<table border=\"1\" class=\"dataframe\">\n",
       "  <thead>\n",
       "    <tr style=\"text-align: right;\">\n",
       "      <th></th>\n",
       "      <th>CBOW</th>\n",
       "      <th>online</th>\n",
       "      <th>skip-gram</th>\n",
       "    </tr>\n",
       "  </thead>\n",
       "  <tbody>\n",
       "    <tr>\n",
       "      <th>0</th>\n",
       "      <td>neuv</td>\n",
       "      <td>ci-dessous</td>\n",
       "      <td>referent</td>\n",
       "    </tr>\n",
       "    <tr>\n",
       "      <th>1</th>\n",
       "      <td>present</td>\n",
       "      <td>ci-dessus</td>\n",
       "      <td>appartient</td>\n",
       "    </tr>\n",
       "    <tr>\n",
       "      <th>2</th>\n",
       "      <td>mettr</td>\n",
       "      <td>ci-après</td>\n",
       "      <td>sac</td>\n",
       "    </tr>\n",
       "    <tr>\n",
       "      <th>3</th>\n",
       "      <td>votr</td>\n",
       "      <td>l'article</td>\n",
       "      <td>lign</td>\n",
       "    </tr>\n",
       "    <tr>\n",
       "      <th>4</th>\n",
       "      <td>sou</td>\n",
       "      <td>infra</td>\n",
       "      <td>main</td>\n",
       "    </tr>\n",
       "    <tr>\n",
       "      <th>5</th>\n",
       "      <td>presentat</td>\n",
       "      <td>paragraphe</td>\n",
       "      <td>if</td>\n",
       "    </tr>\n",
       "    <tr>\n",
       "      <th>6</th>\n",
       "      <td>ave</td>\n",
       "      <td>bibliographie</td>\n",
       "      <td>prix</td>\n",
       "    </tr>\n",
       "    <tr>\n",
       "      <th>7</th>\n",
       "      <td>met</td>\n",
       "      <td>liste</td>\n",
       "      <td>reduit</td>\n",
       "    </tr>\n",
       "    <tr>\n",
       "      <th>8</th>\n",
       "      <td>infiniteshopping</td>\n",
       "      <td>ci-contre</td>\n",
       "      <td>couleur</td>\n",
       "    </tr>\n",
       "    <tr>\n",
       "      <th>9</th>\n",
       "      <td>tou</td>\n",
       "      <td>section</td>\n",
       "      <td>bandoulier</td>\n",
       "    </tr>\n",
       "  </tbody>\n",
       "</table>\n",
       "</div>"
      ],
      "text/plain": [
       "               CBOW         online   skip-gram\n",
       "0              neuv     ci-dessous    referent\n",
       "1           present      ci-dessus  appartient\n",
       "2             mettr       ci-après         sac\n",
       "3              votr      l'article        lign\n",
       "4               sou          infra        main\n",
       "5         presentat     paragraphe          if\n",
       "6               ave  bibliographie        prix\n",
       "7               met          liste      reduit\n",
       "8  infiniteshopping      ci-contre     couleur\n",
       "9               tou        section  bandoulier"
      ]
     },
     "execution_count": 32,
     "metadata": {},
     "output_type": "execute_result"
    }
   ],
   "source": [
    "terms = [\"voir\",\"la\"]\n",
    "\n",
    "\n",
    "df_ = []\n",
    "columns = []\n",
    "for model_name, model in model_dic.items():\n",
    "    tokens = [stemmer.stem(term) if \"online\"!=model_name else term for term in terms]\n",
    "    \n",
    "    mpow = model.predict_output_word(tokens)\n",
    "    if mpow is None:\n",
    "        df_.append([\"\" for k in range(10)])\n",
    "    else:\n",
    "        df_.append([k[0] for k in mpow])\n",
    "    columns.append(model_name)\n",
    "pd.DataFrame(np.array(df_).T, columns=columns)"
   ]
  },
  {
   "cell_type": "code",
   "execution_count": 33,
   "metadata": {},
   "outputs": [
    {
     "data": {
      "text/html": [
       "<div>\n",
       "<style>\n",
       "    .dataframe thead tr:only-child th {\n",
       "        text-align: right;\n",
       "    }\n",
       "\n",
       "    .dataframe thead th {\n",
       "        text-align: left;\n",
       "    }\n",
       "\n",
       "    .dataframe tbody tr th {\n",
       "        vertical-align: top;\n",
       "    }\n",
       "</style>\n",
       "<table border=\"1\" class=\"dataframe\">\n",
       "  <thead>\n",
       "    <tr style=\"text-align: right;\">\n",
       "      <th></th>\n",
       "      <th>CBOW</th>\n",
       "      <th>online</th>\n",
       "      <th>skip-gram</th>\n",
       "    </tr>\n",
       "  </thead>\n",
       "  <tbody>\n",
       "    <tr>\n",
       "      <th>0</th>\n",
       "      <td>galaxy</td>\n",
       "      <td>acier</td>\n",
       "      <td>ace</td>\n",
       "    </tr>\n",
       "    <tr>\n",
       "      <th>1</th>\n",
       "      <td>ace</td>\n",
       "      <td>aluminium</td>\n",
       "      <td>galaxy</td>\n",
       "    </tr>\n",
       "    <tr>\n",
       "      <th>2</th>\n",
       "      <td>stuff</td>\n",
       "      <td>coque</td>\n",
       "      <td>not</td>\n",
       "    </tr>\n",
       "    <tr>\n",
       "      <th>3</th>\n",
       "      <td>not</td>\n",
       "      <td>former</td>\n",
       "      <td>express</td>\n",
       "    </tr>\n",
       "    <tr>\n",
       "      <th>4</th>\n",
       "      <td>xcov</td>\n",
       "      <td>béton</td>\n",
       "      <td>cor</td>\n",
       "    </tr>\n",
       "    <tr>\n",
       "      <th>5</th>\n",
       "      <td>cor</td>\n",
       "      <td>métallique</td>\n",
       "      <td>soupl</td>\n",
       "    </tr>\n",
       "    <tr>\n",
       "      <th>6</th>\n",
       "      <td>trend</td>\n",
       "      <td>protéger</td>\n",
       "      <td>mad</td>\n",
       "    </tr>\n",
       "    <tr>\n",
       "      <th>7</th>\n",
       "      <td>sii</td>\n",
       "      <td>remplacer</td>\n",
       "      <td>stuff</td>\n",
       "    </tr>\n",
       "    <tr>\n",
       "      <th>8</th>\n",
       "      <td>plai</td>\n",
       "      <td>fabriquer</td>\n",
       "      <td>franc</td>\n",
       "    </tr>\n",
       "    <tr>\n",
       "      <th>9</th>\n",
       "      <td>express</td>\n",
       "      <td>conçue</td>\n",
       "      <td>trend</td>\n",
       "    </tr>\n",
       "  </tbody>\n",
       "</table>\n",
       "</div>"
      ],
      "text/plain": [
       "      CBOW      online skip-gram\n",
       "0   galaxy       acier       ace\n",
       "1      ace   aluminium    galaxy\n",
       "2    stuff       coque       not\n",
       "3      not      former   express\n",
       "4     xcov       béton       cor\n",
       "5      cor  métallique     soupl\n",
       "6    trend    protéger       mad\n",
       "7      sii   remplacer     stuff\n",
       "8     plai   fabriquer     franc\n",
       "9  express      conçue     trend"
      ]
     },
     "execution_count": 33,
     "metadata": {},
     "output_type": "execute_result"
    }
   ],
   "source": [
    "terms = [\"coque\",'pour',\"samsung\"]\n",
    "\n",
    "\n",
    "df_ = []\n",
    "columns = []\n",
    "for model_name, model in model_dic.items():\n",
    "    tokens = [stemmer.stem(term) if \"online\"!=model_name else term for term in terms]\n",
    "    \n",
    "    mpow = model.predict_output_word(tokens)\n",
    "    if mpow is None:\n",
    "        df_.append([\"\" for k in range(10)])\n",
    "    else:\n",
    "        df_.append([k[0] for k in mpow])\n",
    "    columns.append(model_name)\n",
    "pd.DataFrame(np.array(df_).T, columns=columns)"
   ]
  },
  {
   "cell_type": "code",
   "execution_count": 34,
   "metadata": {},
   "outputs": [
    {
     "data": {
      "text/html": [
       "<div>\n",
       "<style>\n",
       "    .dataframe thead tr:only-child th {\n",
       "        text-align: right;\n",
       "    }\n",
       "\n",
       "    .dataframe thead th {\n",
       "        text-align: left;\n",
       "    }\n",
       "\n",
       "    .dataframe tbody tr th {\n",
       "        vertical-align: top;\n",
       "    }\n",
       "</style>\n",
       "<table border=\"1\" class=\"dataframe\">\n",
       "  <thead>\n",
       "    <tr style=\"text-align: right;\">\n",
       "      <th></th>\n",
       "      <th>CBOW</th>\n",
       "      <th>online</th>\n",
       "      <th>skip-gram</th>\n",
       "    </tr>\n",
       "  </thead>\n",
       "  <tbody>\n",
       "    <tr>\n",
       "      <th>0</th>\n",
       "      <td>montr</td>\n",
       "      <td>d'affaires</td>\n",
       "      <td>montr</td>\n",
       "    </tr>\n",
       "    <tr>\n",
       "      <th>1</th>\n",
       "      <td>ditl</td>\n",
       "      <td>vieil</td>\n",
       "      <td>chronograph</td>\n",
       "    </tr>\n",
       "    <tr>\n",
       "      <th>2</th>\n",
       "      <td>genr</td>\n",
       "      <td>d’affaires</td>\n",
       "      <td>accutron</td>\n",
       "    </tr>\n",
       "    <tr>\n",
       "      <th>3</th>\n",
       "      <td>chronograph</td>\n",
       "      <td>politique</td>\n",
       "      <td>genr</td>\n",
       "    </tr>\n",
       "    <tr>\n",
       "      <th>4</th>\n",
       "      <td>invict</td>\n",
       "      <td>d'état</td>\n",
       "      <td>norway</td>\n",
       "    </tr>\n",
       "    <tr>\n",
       "      <th>5</th>\n",
       "      <td>chemis</td>\n",
       "      <td>d'église</td>\n",
       "      <td>ditl</td>\n",
       "    </tr>\n",
       "    <tr>\n",
       "      <th>6</th>\n",
       "      <td>pantalon</td>\n",
       "      <td>cet</td>\n",
       "      <td>chemis</td>\n",
       "    </tr>\n",
       "    <tr>\n",
       "      <th>7</th>\n",
       "      <td>vest</td>\n",
       "      <td>jeune</td>\n",
       "      <td>achet</td>\n",
       "    </tr>\n",
       "    <tr>\n",
       "      <th>8</th>\n",
       "      <td>vet</td>\n",
       "      <td>néandertal</td>\n",
       "      <td>leman</td>\n",
       "    </tr>\n",
       "    <tr>\n",
       "      <th>9</th>\n",
       "      <td>box</td>\n",
       "      <td>d’état</td>\n",
       "      <td>tissot</td>\n",
       "    </tr>\n",
       "  </tbody>\n",
       "</table>\n",
       "</div>"
      ],
      "text/plain": [
       "          CBOW      online    skip-gram\n",
       "0        montr  d'affaires        montr\n",
       "1         ditl       vieil  chronograph\n",
       "2         genr  d’affaires     accutron\n",
       "3  chronograph   politique         genr\n",
       "4       invict      d'état       norway\n",
       "5       chemis    d'église         ditl\n",
       "6     pantalon         cet       chemis\n",
       "7         vest       jeune        achet\n",
       "8          vet  néandertal        leman\n",
       "9          box      d’état       tissot"
      ]
     },
     "execution_count": 34,
     "metadata": {},
     "output_type": "execute_result"
    }
   ],
   "source": [
    "terms = [\"homme\"]\n",
    "\n",
    "\n",
    "df_ = []\n",
    "columns = []\n",
    "for model_name, model in model_dic.items():\n",
    "    tokens = [stemmer.stem(term) if \"online\"!=model_name else term for term in terms]\n",
    "    \n",
    "    mpow = model.predict_output_word(tokens)\n",
    "    if mpow is None:\n",
    "        df_.append([\"\" for k in range(10)])\n",
    "    else:\n",
    "        df_.append([k[0] for k in mpow])\n",
    "    columns.append(model_name)\n",
    "pd.DataFrame(np.array(df_).T, columns=columns)"
   ]
  },
  {
   "cell_type": "code",
   "execution_count": 35,
   "metadata": {},
   "outputs": [
    {
     "data": {
      "text/html": [
       "<div>\n",
       "<style>\n",
       "    .dataframe thead tr:only-child th {\n",
       "        text-align: right;\n",
       "    }\n",
       "\n",
       "    .dataframe thead th {\n",
       "        text-align: left;\n",
       "    }\n",
       "\n",
       "    .dataframe tbody tr th {\n",
       "        vertical-align: top;\n",
       "    }\n",
       "</style>\n",
       "<table border=\"1\" class=\"dataframe\">\n",
       "  <thead>\n",
       "    <tr style=\"text-align: right;\">\n",
       "      <th></th>\n",
       "      <th>CBOW</th>\n",
       "      <th>online</th>\n",
       "      <th>skip-gram</th>\n",
       "    </tr>\n",
       "  </thead>\n",
       "  <tbody>\n",
       "    <tr>\n",
       "      <th>0</th>\n",
       "      <td>montr</td>\n",
       "      <td>sa</td>\n",
       "      <td>bred</td>\n",
       "    </tr>\n",
       "    <tr>\n",
       "      <th>1</th>\n",
       "      <td>ditl</td>\n",
       "      <td>jeune</td>\n",
       "      <td>cendriyon</td>\n",
       "    </tr>\n",
       "    <tr>\n",
       "      <th>2</th>\n",
       "      <td>cendriyon</td>\n",
       "      <td>d'affaires</td>\n",
       "      <td>pulsar</td>\n",
       "    </tr>\n",
       "    <tr>\n",
       "      <th>3</th>\n",
       "      <td>genr</td>\n",
       "      <td>mariée</td>\n",
       "      <td>montr</td>\n",
       "    </tr>\n",
       "    <tr>\n",
       "      <th>4</th>\n",
       "      <td>dkny</td>\n",
       "      <td>enceinte</td>\n",
       "      <td>pantacourt</td>\n",
       "    </tr>\n",
       "    <tr>\n",
       "      <th>5</th>\n",
       "      <td>vet</td>\n",
       "      <td>nue</td>\n",
       "      <td>timex</td>\n",
       "    </tr>\n",
       "    <tr>\n",
       "      <th>6</th>\n",
       "      <td>chaussur</td>\n",
       "      <td>adultère</td>\n",
       "      <td>guess</td>\n",
       "    </tr>\n",
       "    <tr>\n",
       "      <th>7</th>\n",
       "      <td>pantacourt</td>\n",
       "      <td>assassinée</td>\n",
       "      <td>watx</td>\n",
       "    </tr>\n",
       "    <tr>\n",
       "      <th>8</th>\n",
       "      <td>ballerin</td>\n",
       "      <td>fatale</td>\n",
       "      <td>ditl</td>\n",
       "    </tr>\n",
       "    <tr>\n",
       "      <th>9</th>\n",
       "      <td>indemod</td>\n",
       "      <td>homme</td>\n",
       "      <td>lorus</td>\n",
       "    </tr>\n",
       "  </tbody>\n",
       "</table>\n",
       "</div>"
      ],
      "text/plain": [
       "         CBOW      online   skip-gram\n",
       "0       montr          sa        bred\n",
       "1        ditl       jeune   cendriyon\n",
       "2   cendriyon  d'affaires      pulsar\n",
       "3        genr      mariée       montr\n",
       "4        dkny    enceinte  pantacourt\n",
       "5         vet         nue       timex\n",
       "6    chaussur    adultère       guess\n",
       "7  pantacourt  assassinée        watx\n",
       "8    ballerin      fatale        ditl\n",
       "9     indemod       homme       lorus"
      ]
     },
     "execution_count": 35,
     "metadata": {},
     "output_type": "execute_result"
    }
   ],
   "source": [
    "terms = [\"femme\"]\n",
    "\n",
    "\n",
    "df_ = []\n",
    "columns = []\n",
    "for model_name, model in model_dic.items():\n",
    "    tokens = [stemmer.stem(term) if \"online\"!=model_name else term for term in terms]\n",
    "    \n",
    "    mpow = model.predict_output_word(tokens)\n",
    "    if mpow is None:\n",
    "        df_.append([\"\" for k in range(10)])\n",
    "    else:\n",
    "        df_.append([k[0] for k in mpow])\n",
    "    columns.append(model_name)\n",
    "pd.DataFrame(np.array(df_).T, columns=columns)"
   ]
  },
  {
   "cell_type": "markdown",
   "metadata": {},
   "source": [
    "### Build Features"
   ]
  },
  {
   "cell_type": "markdown",
   "metadata": {},
   "source": [
    "#### Our Build Model"
   ]
  },
  {
   "cell_type": "code",
   "execution_count": 36,
   "metadata": {
    "collapsed": true
   },
   "outputs": [],
   "source": [
    "data_valid_clean = pd.read_csv(\"data/cdiscount_valid_clean.csv\").fillna(\"\")\n",
    "data_train_clean = pd.read_csv(\"data/cdiscount_train_clean.csv\").fillna(\"\")\n",
    "\n",
    "train_array_token_wstem = [line.split(\" \") for line in data_train_clean[\"Description\"].values]\n",
    "valid_array_token_wstem = [line.split(\" \") for line in data_valid_clean[\"Description\"].values]"
   ]
  },
  {
   "cell_type": "code",
   "execution_count": 37,
   "metadata": {
    "collapsed": true
   },
   "outputs": [],
   "source": [
    "def get_features_mean(lines):\n",
    "    features = [MODEL[x] for x  in lines if x in MODEL]\n",
    "    if features == []:   \n",
    "        fm =np.ones(F_SIZE)\n",
    "    else :\n",
    "        fm = np.mean(features,axis=0)\n",
    "    return fm\n",
    "\n",
    "def get_matrix_features_means(X):\n",
    "    X_embedded_ = list(map(get_features_mean, X))\n",
    "    X_embedded = np.vstack(X_embedded_)\n",
    "    return X_embedded\n",
    "\n"
   ]
  },
  {
   "cell_type": "code",
   "execution_count": 38,
   "metadata": {},
   "outputs": [
    {
     "name": "stdout",
     "output_type": "stream",
     "text": [
      "Time conversion : 19 seconds\n",
      "Shape Matrix : (95000,300)\n",
      "Time conversion : 0 seconds\n",
      "Shape Matrix : (5000,300)\n",
      "{'t_train': 19.158457040786743, 'sg': 1, 't_valid': 0.9597527980804443}\n",
      "Time conversion : 17 seconds\n",
      "Shape Matrix : (95000,300)\n",
      "Time conversion : 0 seconds\n",
      "Shape Matrix : (5000,300)\n",
      "{'t_train': 17.942384958267212, 'sg': 1, 't_valid': 0.9591290950775146}\n",
      "Time conversion : 15 seconds\n",
      "Shape Matrix : (95000,300)\n",
      "Time conversion : 0 seconds\n",
      "Shape Matrix : (5000,300)\n",
      "{'t_train': 15.962489128112793, 'sg': 1, 't_valid': 0.8451859951019287}\n"
     ]
    }
   ],
   "source": [
    "for model_name in [\"CBOW\",\"skip-gram\", \"online\"]:\n",
    "    \n",
    "    if \"online\" == model_name:\n",
    "        X_train = train_array_token_wstem\n",
    "        X_valid = valid_array_token_wstem\n",
    "    else:\n",
    "        X_train = train_array_token\n",
    "        X_valid = valid_array_token\n",
    "    \n",
    "    model = model_dic[model_name]\n",
    "    MODEL = model\n",
    "    F_SIZE = Features_dimension\n",
    "\n",
    "    ts = time.time()\n",
    "    X_embedded_train = get_matrix_features_means(X_train)\n",
    "    te = time.time()\n",
    "    t_train = te-ts\n",
    "    #np.save(embedded_train_dir, X_embedded_train)\n",
    "    print(\"Time conversion : %d seconds\"%t_train)\n",
    "    print(\"Shape Matrix : (%d,%d)\"%X_embedded_train.shape)\n",
    "    np.save(DATA_OUTPUT_DIR +\"/embedded_train_nb_hash_\"+model_name, X_embedded_train)\n",
    "\n",
    "    \n",
    "    ts = time.time()\n",
    "    X_embedded_valid = get_matrix_features_means(X_valid)\n",
    "    te = time.time()\n",
    "    t_valid = te-ts\n",
    "    #np.save(embedded_valid_dir, X_embedded_valid)\n",
    "    print(\"Time conversion : %d seconds\"%t_valid)\n",
    "    print(\"Shape Matrix : (%d,%d)\"%X_embedded_valid.shape)\n",
    "    np.save(DATA_OUTPUT_DIR +\"/embedded_valid_nb_hash_\"+model_name, X_embedded_valid)\n",
    "    \n",
    "    metadata = {\"t_train\" : t_train, \"t_valid\" : t_valid, \"sg\":sg}\n",
    "    print(metadata)"
   ]
  },
  {
   "cell_type": "code",
   "execution_count": 39,
   "metadata": {},
   "outputs": [
    {
     "data": {
      "text/plain": [
       "array([ -2.68843603e+00,   1.93454778e+00,  -1.81924117e+00,\n",
       "         2.36969948e+00,   9.32004392e-01,   1.25195098e+00,\n",
       "         8.65360320e-01,   3.11363190e-01,   6.06419086e-01,\n",
       "         1.43122864e+00,   1.65650344e+00,  -3.67380810e+00,\n",
       "         1.87034404e+00,   1.74155509e+00,  -5.33656299e-01,\n",
       "         1.40374994e+00,   2.30875421e+00,   1.79799902e+00,\n",
       "        -1.87658596e+00,   1.29379809e+00,   9.08876181e-01,\n",
       "         1.08965196e-01,  -1.40824032e+00,   8.72196436e-01,\n",
       "         1.08273089e+00,   7.29817152e-01,  -1.11542833e+00,\n",
       "         1.52417982e+00,   1.71380103e+00,  -2.30002356e+00,\n",
       "         1.15143669e+00,  -2.83064008e-01,   2.14521900e-01,\n",
       "         8.66827071e-01,   7.54454792e-01,   2.86816597e-01,\n",
       "         5.41400373e-01,  -7.38874137e-01,   5.10816514e-01,\n",
       "        -1.25636995e+00,  -8.32316935e-01,   3.15392661e+00,\n",
       "        -6.42400444e-01,  -1.62124023e-01,  -1.09802079e+00,\n",
       "         1.84242070e+00,  -3.25098783e-01,  -6.75076485e-01,\n",
       "         1.25538635e+00,   9.76222456e-01,  -1.26038420e+00,\n",
       "        -8.73921692e-01,  -4.83060241e-01,  -1.63996017e+00,\n",
       "         7.62541443e-02,   8.87569129e-01,   1.44738925e+00,\n",
       "        -9.39991832e-01,   5.22625744e-01,  -1.13829386e+00,\n",
       "         2.46780300e+00,   1.03674316e+00,  -3.46387550e-02,\n",
       "         5.59141755e-01,  -1.85830843e+00,   1.89094067e+00,\n",
       "        -2.26592970e+00,  -1.27904451e+00,   1.20280313e+00,\n",
       "        -1.99019861e+00,  -1.18200147e+00,  -1.26226985e+00,\n",
       "        -2.97760367e-01,   1.58452189e+00,   1.69851220e+00,\n",
       "         4.03091172e-03,   1.18817770e+00,   9.70204413e-01,\n",
       "         4.13892627e-01,  -1.02979946e+00,   2.23877263e+00,\n",
       "        -1.44865227e+00,  -5.04627824e-01,   8.68076801e-01,\n",
       "         8.29642490e-02,   2.04609823e+00,  -1.05298305e+00,\n",
       "         6.09300554e-01,  -3.04428399e-01,   2.73707962e+00,\n",
       "        -4.90044475e-01,   6.93703949e-01,   6.47519588e-01,\n",
       "        -1.02498055e+00,   4.15770024e-01,   7.80640066e-01,\n",
       "        -4.63584423e-01,  -2.49082476e-01,  -7.62456775e-01,\n",
       "        -5.47676980e-01,   1.17528290e-01,  -4.62611139e-01,\n",
       "         2.14557275e-01,  -3.28053188e+00,  -5.41767597e-01,\n",
       "        -1.62989473e+00,   7.04871237e-01,  -3.26627374e+00,\n",
       "        -1.94655013e+00,  -2.44072461e+00,   3.53704125e-01,\n",
       "         5.20247161e-01,  -6.92556024e-01,  -8.00403114e-03,\n",
       "         4.45334911e-01,   1.83195725e-01,   2.57963538e+00,\n",
       "        -1.73451412e+00,   1.46722376e+00,  -1.63455665e+00,\n",
       "        -8.58749390e-01,  -6.21192455e-01,  -1.50854373e+00,\n",
       "        -5.48384249e-01,   1.58481568e-01,   5.74040897e-02,\n",
       "        -2.33555293e+00,  -1.24846363e+00,   1.14320815e+00,\n",
       "         2.19661355e+00,  -1.67331612e+00,  -4.21535254e-01,\n",
       "        -1.08153939e+00,   1.16735470e+00,   1.04143536e+00,\n",
       "         3.06623054e+00,   1.65813851e+00,  -1.17980875e-01,\n",
       "         7.62855887e-01,   8.76870602e-02,  -3.08444858e+00,\n",
       "        -8.69260669e-01,  -6.04443192e-01,  -1.61660045e-01,\n",
       "        -8.61184120e-01,  -2.36440158e+00,   5.85857093e-01,\n",
       "        -1.39690363e+00,  -8.98482919e-01,   1.49133730e+00,\n",
       "         1.13904285e+00,   1.06437540e+00,  -1.32740811e-01,\n",
       "        -2.40807557e+00,   1.03752029e+00,  -2.68450469e-01,\n",
       "        -1.56857455e+00,   5.13491571e-01,   1.27838290e+00,\n",
       "         3.60189891e+00,  -7.12578058e-01,   1.14855134e+00,\n",
       "        -9.21212018e-01,   1.84563351e+00,  -1.35468924e+00,\n",
       "         5.08043587e-01,  -7.86122531e-02,   1.48000047e-01,\n",
       "        -3.08121383e-01,   2.60533619e+00,   1.17474757e-01,\n",
       "        -2.68221569e+00,  -2.11171627e+00,   6.67897880e-01,\n",
       "         7.17338204e-01,  -1.36855912e+00,   5.55815279e-01,\n",
       "        -2.61767530e+00,   7.53945827e-01,  -2.16935322e-01,\n",
       "        -1.07531153e-01,  -9.10443187e-01,  -1.41226697e+00,\n",
       "         1.81568074e+00,  -7.87165314e-02,  -8.01170245e-02,\n",
       "         2.15358090e+00,  -1.11790109e+00,   4.41408157e-01,\n",
       "        -2.03346205e+00,   2.00758553e+00,  -9.28918600e-01,\n",
       "        -2.80272388e+00,   9.71888959e-01,  -3.24676514e+00,\n",
       "        -3.38747120e+00,  -8.82310331e-01,   5.86733460e-01,\n",
       "         4.13469267e+00,  -1.71811211e+00,   1.64829624e+00,\n",
       "         1.12822413e+00,  -8.73017550e-01,   3.29645097e-01,\n",
       "        -4.39161003e-01,  -2.36133933e-02,   1.20484522e-02,\n",
       "         6.67026162e-01,   1.21784627e+00,  -6.66718662e-01,\n",
       "         1.17255211e+00,  -2.04697937e-01,   1.69140399e+00,\n",
       "         1.07980084e+00,  -2.47413158e+00,   2.09850931e+00,\n",
       "        -6.12240016e-01,  -7.53843009e-01,  -1.34083271e+00,\n",
       "        -5.60064673e-01,   1.55512488e+00,   1.69336259e+00,\n",
       "         5.39195061e-01,  -9.16285992e-01,   3.11728507e-01,\n",
       "         8.77962768e-01,   1.99047327e+00,  -1.01559389e+00,\n",
       "         4.54195142e-01,  -2.52110958e-01,   4.88547832e-01,\n",
       "         1.10475075e+00,   1.73281097e+00,   1.78320634e+00,\n",
       "         1.45284402e+00,  -1.05085388e-01,   1.55221033e+00,\n",
       "        -1.42480302e+00,   6.98454022e-01,   7.52862453e-01,\n",
       "        -1.81827140e+00,  -1.24825382e+00,   1.18460631e+00,\n",
       "         1.52688134e+00,   1.00072527e+00,   1.75584793e+00,\n",
       "         1.83837724e+00,  -2.25422144e+00,   7.82507837e-01,\n",
       "        -1.09857738e+00,   3.19284648e-01,  -9.82456982e-01,\n",
       "         1.89534295e+00,  -2.64766812e+00,   1.82309616e+00,\n",
       "         4.94696081e-01,   9.68492806e-01,  -1.67260408e+00,\n",
       "        -1.97256851e+00,  -4.63027775e-01,  -6.73265040e-01,\n",
       "        -1.25769424e+00,   3.03554088e-01,   1.96161973e+00,\n",
       "         3.92474145e-01,  -1.71958745e+00,  -8.76169503e-01,\n",
       "        -6.63521230e-01,   2.60092998e+00,  -7.78240681e-01,\n",
       "         9.60782945e-01,   1.20106184e+00,   1.42938304e+00,\n",
       "         2.14928344e-01,   1.43222558e+00,  -6.82170331e-01,\n",
       "        -4.19037193e-01,  -1.89129150e+00,   5.24691403e-01,\n",
       "         3.05440158e-01,   2.47658923e-01,  -3.37442517e-01,\n",
       "        -1.08417638e-01,  -2.13882208e+00,  -1.29791582e+00,\n",
       "         4.53739196e-01,   1.67676663e+00,  -2.65482455e-01,\n",
       "        -1.88126493e+00,  -1.19294786e+00,  -1.84755564e+00,\n",
       "         3.50193322e-01,   4.38239634e-01,  -2.00624895e+00,\n",
       "         1.60679221e+00,   7.75282681e-01,  -8.51706386e-01,\n",
       "        -5.76808453e-01,   7.63676286e-01,  -5.04155271e-02], dtype=float32)"
      ]
     },
     "execution_count": 39,
     "metadata": {},
     "output_type": "execute_result"
    }
   ],
   "source": [
    "model[\"homme\"]"
   ]
  },
  {
   "cell_type": "code",
   "execution_count": 40,
   "metadata": {},
   "outputs": [
    {
     "data": {
      "text/plain": [
       "array([ True,  True,  True,  True,  True,  True,  True,  True,  True,\n",
       "        True,  True,  True,  True,  True,  True,  True,  True,  True,\n",
       "        True,  True,  True,  True,  True,  True,  True,  True,  True,\n",
       "        True,  True,  True,  True,  True,  True,  True,  True,  True,\n",
       "        True,  True,  True,  True,  True,  True,  True,  True,  True,\n",
       "        True,  True,  True,  True,  True,  True,  True,  True,  True,\n",
       "        True,  True,  True,  True,  True,  True,  True,  True,  True,\n",
       "        True,  True,  True,  True,  True,  True,  True,  True,  True,\n",
       "        True,  True,  True,  True,  True,  True,  True,  True,  True,\n",
       "        True,  True,  True,  True,  True,  True,  True,  True,  True,\n",
       "        True,  True,  True,  True,  True,  True,  True,  True,  True,\n",
       "        True,  True,  True,  True,  True,  True,  True,  True,  True,\n",
       "        True,  True,  True,  True,  True,  True,  True,  True,  True,\n",
       "        True,  True,  True,  True,  True,  True,  True,  True,  True,\n",
       "        True,  True,  True,  True,  True,  True,  True,  True,  True,\n",
       "        True,  True,  True,  True,  True,  True,  True,  True,  True,\n",
       "        True,  True,  True,  True,  True,  True,  True,  True,  True,\n",
       "        True,  True,  True,  True,  True,  True,  True,  True,  True,\n",
       "        True,  True,  True,  True,  True,  True,  True,  True,  True,\n",
       "        True,  True,  True,  True,  True,  True,  True,  True,  True,\n",
       "        True,  True,  True,  True,  True,  True,  True,  True,  True,\n",
       "        True,  True,  True,  True,  True,  True,  True,  True,  True,\n",
       "        True,  True,  True,  True,  True,  True,  True,  True,  True,\n",
       "        True,  True,  True,  True,  True,  True,  True,  True,  True,\n",
       "        True,  True,  True,  True,  True,  True,  True,  True,  True,\n",
       "        True,  True,  True,  True,  True,  True,  True,  True,  True,\n",
       "        True,  True,  True,  True,  True,  True,  True,  True,  True,\n",
       "        True,  True,  True,  True,  True,  True,  True,  True,  True,\n",
       "        True,  True,  True,  True,  True,  True,  True,  True,  True,\n",
       "        True,  True,  True,  True,  True,  True,  True,  True,  True,\n",
       "        True,  True,  True,  True,  True,  True,  True,  True,  True,\n",
       "        True,  True,  True,  True,  True,  True,  True,  True,  True,\n",
       "        True,  True,  True,  True,  True,  True,  True,  True,  True,\n",
       "        True,  True,  True], dtype=bool)"
      ]
     },
     "execution_count": 40,
     "metadata": {},
     "output_type": "execute_result"
    }
   ],
   "source": [
    "model.wv.syn0[model.wv.vocab[\"homme\"].index] == model[\"homme\"]"
   ]
  },
  {
   "cell_type": "code",
   "execution_count": 41,
   "metadata": {},
   "outputs": [
    {
     "data": {
      "text/plain": [
       "(50130, 300)"
      ]
     },
     "execution_count": 41,
     "metadata": {},
     "output_type": "execute_result"
    }
   ],
   "source": [
    "model.syn1neg.shape"
   ]
  },
  {
   "cell_type": "code",
   "execution_count": 42,
   "metadata": {},
   "outputs": [
    {
     "data": {
      "text/plain": [
       "419"
      ]
     },
     "execution_count": 42,
     "metadata": {},
     "output_type": "execute_result"
    }
   ],
   "source": [
    "vh = model.wv.vocab[\"homme\"]\n",
    "vh.index"
   ]
  },
  {
   "cell_type": "code",
   "execution_count": null,
   "metadata": {
    "collapsed": true
   },
   "outputs": [],
   "source": []
  }
 ],
 "metadata": {
  "anaconda-cloud": {},
  "hide_input": false,
  "kernelspec": {
   "display_name": "meteochalleng",
   "language": "python",
   "name": "meteochalleng"
  },
  "language_info": {
   "codemirror_mode": {
    "name": "ipython",
    "version": 3
   },
   "file_extension": ".py",
   "mimetype": "text/x-python",
   "name": "python",
   "nbconvert_exporter": "python",
   "pygments_lexer": "ipython3",
   "version": "3.5.3"
  },
  "toc": {
   "nav_menu": {
    "height": "279px",
    "width": "252px"
   },
   "number_sections": true,
   "sideBar": true,
   "skip_h1_title": false,
   "toc_cell": false,
   "toc_position": {},
   "toc_section_display": "block",
   "toc_window_display": true
  }
 },
 "nbformat": 4,
 "nbformat_minor": 2
}
