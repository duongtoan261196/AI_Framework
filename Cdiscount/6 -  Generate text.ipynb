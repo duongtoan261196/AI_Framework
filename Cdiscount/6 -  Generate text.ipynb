{
 "cells": [
  {
   "cell_type": "code",
   "execution_count": 1,
   "metadata": {
    "collapsed": true
   },
   "outputs": [],
   "source": [
    "#Importation des librairies utilisées\n",
    "import unicodedata \n",
    "import time\n",
    "import pandas as pd\n",
    "import numpy as np\n",
    "import random\n",
    "import nltk\n",
    "import collections\n",
    "import itertools\n",
    "import csv\n",
    "import warnings\n",
    "import pickle\n",
    "import scipy\n",
    "\n",
    "import keras.models as km\n",
    "import keras.layers as kl\n",
    "import keras.callbacks as kc\n",
    "import keras.utils as ku"
   ]
  },
  {
   "cell_type": "code",
   "execution_count": 2,
   "metadata": {
    "collapsed": true
   },
   "outputs": [],
   "source": [
    "DATA_DIR = \"/Users/bguillouet/Insa/TP_Insa/data/cdiscount_NLP/text_generation/\"\n",
    "\n",
    "chars = pickle.load(open(DATA_DIR+\"char_reduit_list\",\"rb\")) + [\"start\",\"end\"]\n",
    "X = np.load(DATA_DIR+\"Coque_description_char_reduit_197.npy\")"
   ]
  },
  {
   "cell_type": "code",
   "execution_count": 3,
   "metadata": {
    "collapsed": true
   },
   "outputs": [],
   "source": [
    "int_to_char = {i:c for i,c in enumerate(chars)}\n",
    "char_to_int = {c:i for i,c in int_to_char.items()}\n",
    "I_START = char_to_int[\"start\"]\n",
    "I_END = char_to_int[\"end\"]"
   ]
  },
  {
   "cell_type": "code",
   "execution_count": 4,
   "metadata": {},
   "outputs": [
    {
     "name": "stdout",
     "output_type": "stream",
     "text": [
      "Number of sentences : 1761637, Vocab size : 90, Sequence Length : 198\n"
     ]
    }
   ],
   "source": [
    "SIZE_VOCAB = len(chars)\n",
    "LENGTH_SEQUENCE = len(X[0])+1\n",
    "N_X = len(X)\n",
    "print(\"Number of sentences : %d, Vocab size : %d, Sequence Length : %d\" %(N_X, SIZE_VOCAB, LENGTH_SEQUENCE))"
   ]
  },
  {
   "cell_type": "code",
   "execution_count": 5,
   "metadata": {
    "collapsed": true
   },
   "outputs": [],
   "source": [
    "def encode_input_output_sequence(x, length_sequence, size_vocab, char_to_int_dic, i_start, i_end):\n",
    "    x_vec = np.zeros((length_sequence, size_vocab))\n",
    "    y_vec = np.zeros((length_sequence, size_vocab))\n",
    "    x_vec[0][i_start] = 1\n",
    "    y_vec[-1][i_end] = 1\n",
    "    for ix,c in enumerate(x):\n",
    "        c_int = char_to_int_dic[c]\n",
    "        x_vec[ix+1][c_int]=1\n",
    "        y_vec[ix][c_int]=1\n",
    "    return x_vec, y_vec\n",
    "\n",
    "\n",
    "def decode_sequence(x, int_to_char_dic):\n",
    "    seq = []\n",
    "    for i in np.where(x)[1]:\n",
    "        seq.append(int_to_char_dic[i])\n",
    "    return \"\".join(seq)\n"
   ]
  },
  {
   "cell_type": "code",
   "execution_count": 6,
   "metadata": {},
   "outputs": [
    {
     "name": "stdout",
     "output_type": "stream",
     "text": [
      "127900/128000\r"
     ]
    }
   ],
   "source": [
    "N_vec=128000\n",
    "X_vec = np.zeros((N_vec, LENGTH_SEQUENCE, SIZE_VOCAB))\n",
    "X_vec[:,0,I_START]=1\n",
    "Y_vec = np.zeros((N_vec, LENGTH_SEQUENCE, SIZE_VOCAB))\n",
    "Y_vec[:,-1,I_END]=1\n",
    "for ix, x in enumerate(X[:N_vec]):\n",
    "    if ix%100 == 0:\n",
    "        print(\"%d/%d\"%(ix,N_vec), end=\"\\r\")\n",
    "    for ic,c in enumerate(x):\n",
    "        c_int = char_to_int[c]\n",
    "        X_vec[ix][ic+1][c_int]=1\n",
    "        Y_vec[ix][ic][c_int]=1\n"
   ]
  },
  {
   "cell_type": "code",
   "execution_count": 7,
   "metadata": {},
   "outputs": [
    {
     "name": "stdout",
     "output_type": "stream",
     "text": [
      "Epoch 1/20\n",
      "128000/128000 [==============================] - 864s - loss: 2.5434   \n",
      "Epoch 2/20\n",
      "128000/128000 [==============================] - 865s - loss: 1.1466   \n",
      "Epoch 3/20\n",
      "128000/128000 [==============================] - 863s - loss: 0.6351   \n",
      "Epoch 4/20\n",
      "128000/128000 [==============================] - 862s - loss: 0.4348   \n",
      "Epoch 5/20\n",
      "128000/128000 [==============================] - 862s - loss: 0.3507   \n",
      "Epoch 6/20\n",
      "128000/128000 [==============================] - 865s - loss: 0.3152   \n",
      "Epoch 7/20\n",
      "128000/128000 [==============================] - 866s - loss: 0.2940   \n",
      "Epoch 8/20\n",
      "128000/128000 [==============================] - 867s - loss: 0.2837   \n",
      "Epoch 9/20\n",
      "128000/128000 [==============================] - 898s - loss: 0.2749   \n",
      "Epoch 10/20\n",
      "128000/128000 [==============================] - 878s - loss: 0.2690   \n",
      "Epoch 11/20\n",
      "128000/128000 [==============================] - 877s - loss: 0.2645   \n",
      "Epoch 12/20\n",
      "128000/128000 [==============================] - 878s - loss: 0.2609   \n",
      "Epoch 13/20\n",
      "128000/128000 [==============================] - 874s - loss: 0.2581   \n",
      "Epoch 14/20\n",
      "128000/128000 [==============================] - 874s - loss: 0.2546   \n",
      "Epoch 15/20\n",
      "128000/128000 [==============================] - 875s - loss: 0.2523   \n",
      "Epoch 16/20\n",
      "128000/128000 [==============================] - 870s - loss: 0.2503   \n",
      "Epoch 17/20\n",
      "128000/128000 [==============================] - 867s - loss: 0.2480   \n",
      "Epoch 18/20\n",
      "128000/128000 [==============================] - 865s - loss: 0.2461   \n",
      "Epoch 19/20\n",
      "128000/128000 [==============================] - 867s - loss: 0.2443   \n",
      "Epoch 20/20\n",
      "128000/128000 [==============================] - 866s - loss: 0.2427   \n"
     ]
    },
    {
     "data": {
      "text/plain": [
       "<keras.callbacks.History at 0x9f3e45b38>"
      ]
     },
     "execution_count": 7,
     "metadata": {},
     "output_type": "execute_result"
    }
   ],
   "source": [
    "nb_hidden = 32\n",
    "epochs = 20\n",
    "batch_size=128\n",
    "\n",
    "model = km.Sequential()\n",
    "model.add(kl.LSTM(nb_hidden, input_shape=(None, SIZE_VOCAB), return_sequences=True))\n",
    "model.add(kl.TimeDistributed(kl.Dense(SIZE_VOCAB)))\n",
    "model.add(kl.Activation('softmax'))\n",
    "model.compile(loss=\"categorical_crossentropy\", optimizer=\"rmsprop\")\n",
    "model.fit(X_vec, Y_vec, epochs=epochs, batch_size=batch_size)"
   ]
  },
  {
   "cell_type": "code",
   "execution_count": 8,
   "metadata": {},
   "outputs": [
    {
     "name": "stdout",
     "output_type": "stream",
     "text": [
      "startPour apple iphone 4 : coque bumper silicone blanc - Cet étui en silicone rigide protège et habille votre APPLE iPhone 4. Parfaitement adapté, il permet l'accès à toutes les fo… Voir la présentation\n"
     ]
    }
   ],
   "source": [
    "i_test = 0\n",
    "print(decode_sequence(X_vec[i_test], int_to_char))\n",
    "Y = model.predict(X_vec[i_test].reshape(1,LENGTH_SEQUENCE, SIZE_VOCAB))\n"
   ]
  },
  {
   "cell_type": "code",
   "execution_count": 9,
   "metadata": {},
   "outputs": [
    {
     "data": {
      "text/plain": [
       "'Sour sppeeccoeene c - coque peteart-on g q  -landhd *httmce lln -onegene panene fiauere tn corelee cotre -naaa -naone C  Careeie  e   cne pee coepossen eeacees à toutes les peu Voir la présentationend'"
      ]
     },
     "execution_count": 9,
     "metadata": {},
     "output_type": "execute_result"
    }
   ],
   "source": [
    "seq=[]\n",
    "for i in Y[0].argmax(1):\n",
    "    seq.append(int_to_char[i])\n",
    "\"\".join(seq)"
   ]
  },
  {
   "cell_type": "code",
   "execution_count": 123,
   "metadata": {},
   "outputs": [
    {
     "name": "stdout",
     "output_type": "stream",
     "text": [
      "step 0\n",
      "start\n",
      "startSamsung Galaxy S5 mini Premiumcoque case blanche - Strame - **Fais une déclaration visuelle!** Notre SilikonCase unis un design affiné avec une parfaite protection, sans cacher la belle silhoue… Vo\r"
     ]
    }
   ],
   "source": [
    "X_pred = np.zeros((1, LENGTH_SEQUENCE, SIZE_VOCAB))\n",
    "print(\"step 0\")\n",
    "X_pred[0,0,I_START] = 1\n",
    "X_pred_str = decode_sequence(X_pred[0], int_to_char)\n",
    "print(X_pred_str)\n",
    "\n",
    "#print(\"step 1\")\n",
    "#l = \"C\"\n",
    "#i_l = char_to_int[l]\n",
    "#X_pred[0,1,i_l] = 1\n",
    "#X_pred_str = decode_sequence(X_pred[0], int_to_char)\n",
    "#print(X_pred_str)\n",
    "\n",
    "for i in range(197):\n",
    "    i=i\n",
    "    ix = np.argmax(model.predict(X_pred[:,:i+1,:])[0][-1,:])\n",
    "    X_pred[0,i+1,ix] = 1\n",
    "    X_pred_str = decode_sequence(X_pred[0], int_to_char)\n",
    "    print(X_pred_str, end=\"\\r\")"
   ]
  },
  {
   "cell_type": "code",
   "execution_count": 134,
   "metadata": {},
   "outputs": [
    {
     "name": "stdout",
     "output_type": "stream",
     "text": [
      "step 0\n",
      "start\n",
      "startHTC One X / X+ coque dure case noir - Skurtanchors tor Mete Wappriap - **Fais une déclaration visuelle!** Notre HardCase unis un design affiné avec une parfaite protection, sans ca… Voir la présent\r"
     ]
    }
   ],
   "source": [
    "def my_normalize(v):\n",
    "    norm = sum(v)\n",
    "    return v/norm*0.99\n",
    "\n",
    "X_pred = np.zeros((1, LENGTH_SEQUENCE, SIZE_VOCAB))\n",
    "print(\"step 0\")\n",
    "X_pred[0,0,I_START] = 1\n",
    "X_pred_str = decode_sequence(X_pred[0], int_to_char)\n",
    "print(X_pred_str)\n",
    "\n",
    "#print(\"step 1\")\n",
    "#l = \"C\"\n",
    "#i_l = char_to_int[l]\n",
    "#X_pred[0,1,i_l] = 1\n",
    "#X_pred_str = decode_sequence(X_pred[0], int_to_char)\n",
    "#print(X_pred_str)\n",
    "\n",
    "for i in range(197):\n",
    "    i=i\n",
    "    predict_step = my_normalize(model.predict(X_pred[:,:i+1,:])[0][-1,:])\n",
    "    ix = np.argmax(np.random.multinomial(1,predict_step, size=1))\n",
    "    X_pred[0,i+1,ix] = 1\n",
    "    X_pred_str = decode_sequence(X_pred[0], int_to_char)\n",
    "    print(X_pred_str, end=\"\\r\")"
   ]
  },
  {
   "cell_type": "code",
   "execution_count": null,
   "metadata": {
    "collapsed": true
   },
   "outputs": [],
   "source": []
  },
  {
   "cell_type": "code",
   "execution_count": null,
   "metadata": {
    "collapsed": true
   },
   "outputs": [],
   "source": []
  }
 ],
 "metadata": {
  "hide_input": false,
  "kernelspec": {
   "display_name": "Python [DeepLearning]",
   "language": "python",
   "name": "Python [DeepLearning]"
  },
  "language_info": {
   "codemirror_mode": {
    "name": "ipython",
    "version": 3
   },
   "file_extension": ".py",
   "mimetype": "text/x-python",
   "name": "python",
   "nbconvert_exporter": "python",
   "pygments_lexer": "ipython3",
   "version": "3.6.1"
  },
  "toc": {
   "nav_menu": {},
   "number_sections": true,
   "sideBar": true,
   "skip_h1_title": false,
   "toc_cell": false,
   "toc_position": {},
   "toc_section_display": "block",
   "toc_window_display": false
  }
 },
 "nbformat": 4,
 "nbformat_minor": 2
}
