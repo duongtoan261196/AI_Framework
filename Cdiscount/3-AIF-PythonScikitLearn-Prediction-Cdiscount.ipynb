{
 "cells": [
  {
   "cell_type": "code",
   "execution_count": 3,
   "metadata": {},
   "outputs": [],
   "source": [
    "#Importation des librairies utilisées\n",
    "import unicodedata \n",
    "import time\n",
    "import pandas as pd\n",
    "import numpy as np\n",
    "import random\n",
    "import nltk\n",
    "import collections\n",
    "import itertools\n",
    "import csv\n",
    "import warnings\n",
    "import pickle\n",
    "import scipy\n",
    "\n",
    "import os\n",
    "from sklearn.cross_validation import train_test_split\n",
    "from sklearn.linear_model import LogisticRegression\n",
    "from sklearn.ensemble import RandomForestClassifier\n"
   ]
  },
  {
   "cell_type": "code",
   "execution_count": 4,
   "metadata": {},
   "outputs": [],
   "source": [
    "Y_train = pd.read_csv(\"data/cdiscount_train_subset.csv\").fillna(\"\")[\"Categorie1\"]\n",
    "Y_valid = pd.read_csv(\"data/cdiscount_valid.csv\").fillna(\"\")[\"Categorie1\"]"
   ]
  },
  {
   "cell_type": "markdown",
   "metadata": {},
   "source": [
    "# Regression Logistique"
   ]
  },
  {
   "cell_type": "code",
   "execution_count": 5,
   "metadata": {
    "scrolled": false
   },
   "outputs": [
    {
     "name": "stdout",
     "output_type": "stream",
     "text": [
      "nb_hash : None, vectorizer : count\n",
      "{'nb_hash': None, 'score_train': 0.97930526315789479, 'typeW2V': None, 'learning_predict': 0.2245628833770752, 'vectorizer': 'count', 'score_valid': 0.90980000000000005, 'learning_time': 51.61705780029297}\n",
      "nb_hash : 300, vectorizer : count\n",
      "{'nb_hash': 300, 'score_train': 0.72312631578947373, 'typeW2V': None, 'learning_predict': 0.19028806686401367, 'vectorizer': 'count', 'score_valid': 0.70499999999999996, 'learning_time': 32.592347145080566}\n",
      "nb_hash : 10000, vectorizer : count\n",
      "{'nb_hash': 10000, 'score_train': 0.96926315789473683, 'typeW2V': None, 'learning_predict': 0.21926307678222656, 'vectorizer': 'count', 'score_valid': 0.88819999999999999, 'learning_time': 44.44723200798035}\n",
      "nb_hash : None, vectorizer : tfidf\n",
      "{'nb_hash': None, 'score_train': 0.91381052631578952, 'typeW2V': None, 'learning_predict': 0.22490191459655762, 'vectorizer': 'tfidf', 'score_valid': 0.87519999999999998, 'learning_time': 23.655981063842773}\n",
      "nb_hash : 300, vectorizer : tfidf\n",
      "{'nb_hash': 300, 'score_train': 0.71597894736842105, 'typeW2V': None, 'learning_predict': 0.1973400115966797, 'vectorizer': 'tfidf', 'score_valid': 0.69940000000000002, 'learning_time': 21.833364009857178}\n",
      "nb_hash : 10000, vectorizer : tfidf\n",
      "{'nb_hash': 10000, 'score_train': 0.90205263157894733, 'typeW2V': None, 'learning_predict': 0.2310497760772705, 'vectorizer': 'tfidf', 'score_valid': 0.86099999999999999, 'learning_time': 22.137742042541504}\n"
     ]
    }
   ],
   "source": [
    "DATA_DIR = \"data/features\"\n",
    "\n",
    "from scipy import sparse\n",
    "\n",
    "metadata_list_lr = []\n",
    "\n",
    "parameters = [[None, \"count\"],\n",
    "              [300, \"count\"],\n",
    "              [10000, \"count\"],\n",
    "              [None, \"tfidf\"],\n",
    "              [300, \"tfidf\"],\n",
    "              [10000, \"tfidf\"],]\n",
    "\n",
    "for nb_hash, vectorizer in parameters:\n",
    "    print(\"nb_hash : \" + str(nb_hash) + \", vectorizer : \" + str(vectorizer))\n",
    "    X_train = sparse.load_npz(DATA_DIR +\"/vec_train_nb_hash_\" + str(nb_hash) + \"_vectorizer_\" + str(vectorizer)+\".npz\")\n",
    "    X_valid = sparse.load_npz(DATA_DIR +\"/vec_valid_nb_hash_\" + str(nb_hash) + \"_vectorizer_\" + str(vectorizer)+\".npz\")\n",
    "    ts = time.time()\n",
    "    cla = LogisticRegression()\n",
    "    cla.fit(X_train,Y_train.values)\n",
    "    te=time.time()\n",
    "    t_learning = te-ts\n",
    "    ts = time.time()\n",
    "    score_train=cla.score(X_train,Y_train)\n",
    "    score_valid=cla.score(X_valid,Y_valid)\n",
    "    te=time.time()\n",
    "    t_predict = te-ts\n",
    "    metadata = {\"typeW2V\": None, \"nb_hash\": nb_hash, \"vectorizer\":vectorizer , \"learning_time\" : t_learning, \"predict_time\":t_predict, \"score_train\": score_train, \"score_valid\": score_valid}\n",
    "    print(metadata)\n",
    "    metadata_list_lr.append(metadata)\n",
    "       "
   ]
  },
  {
   "cell_type": "code",
   "execution_count": 6,
   "metadata": {
    "scrolled": true
   },
   "outputs": [
    {
     "name": "stdout",
     "output_type": "stream",
     "text": [
      "\n",
      "Word2Vec :CBOW\n",
      "{'nb_hash': None, 'score_train': 0.80271578947368416, 'typeW2V': 'CBOW', 'learning_predict': 0.4588019847869873, 'vectorizer': 'word2vec', 'score_valid': 0.79600000000000004, 'learning_time': 806.843672990799}\n",
      "Word2Vec :skip-gram\n",
      "{'nb_hash': None, 'score_train': 0.84796842105263159, 'typeW2V': 'skip-gram', 'learning_predict': 0.41788697242736816, 'vectorizer': 'word2vec', 'score_valid': 0.84440000000000004, 'learning_time': 409.39480996131897}\n",
      "Word2Vec :online\n",
      "{'nb_hash': None, 'score_train': 0.77548421052631578, 'typeW2V': 'online', 'learning_predict': 0.24233794212341309, 'vectorizer': 'word2vec', 'score_valid': 0.75280000000000002, 'learning_time': 790.7946720123291}\n"
     ]
    }
   ],
   "source": [
    "print(\"\")\n",
    "\n",
    "for model_name in [\"CBOW\",\"skip-gram\", \"online\"]:\n",
    "    print(\"Word2Vec :\" + model_name)\n",
    "\n",
    "    X_train = np.load(DATA_DIR +\"/embedded_train_nb_hash_\" + model_name+\".npy\")\n",
    "    X_valid = np.load(DATA_DIR +\"/embedded_valid_nb_hash_\" + model_name+\".npy\")\n",
    "    \n",
    "    ts = time.time()\n",
    "    cla = LogisticRegression()\n",
    "    cla.fit(X_train,Y_train.values)\n",
    "    te=time.time()\n",
    "    t_learning = te-ts\n",
    "    ts = time.time()\n",
    "    score_train=cla.score(X_train,Y_train)\n",
    "    score_valid=cla.score(X_valid,Y_valid)\n",
    "    te=time.time()\n",
    "    t_predict = te-ts\n",
    "    metadata = {\"typeW2V\": model_name ,\"nb_hash\": None, \"vectorizer\":\"word2vec\" ,\"learning_time\" : t_learning, \"predict_time\":t_predict, \"score_train\": score_train, \"score_valid\": score_valid}\n",
    "    print(metadata)\n",
    "    metadata_list_lr.append(metadata)\n"
   ]
  },
  {
   "cell_type": "code",
   "execution_count": 8,
   "metadata": {},
   "outputs": [
    {
     "data": {
      "text/html": [
       "<div>\n",
       "<style>\n",
       "    .dataframe thead tr:only-child th {\n",
       "        text-align: right;\n",
       "    }\n",
       "\n",
       "    .dataframe thead th {\n",
       "        text-align: left;\n",
       "    }\n",
       "\n",
       "    .dataframe tbody tr th {\n",
       "        vertical-align: top;\n",
       "    }\n",
       "</style>\n",
       "<table border=\"1\" class=\"dataframe\">\n",
       "  <thead>\n",
       "    <tr style=\"text-align: right;\">\n",
       "      <th></th>\n",
       "      <th>learning_predict</th>\n",
       "      <th>learning_time</th>\n",
       "      <th>nb_hash</th>\n",
       "      <th>score_train</th>\n",
       "      <th>score_valid</th>\n",
       "      <th>typeW2V</th>\n",
       "      <th>vectorizer</th>\n",
       "    </tr>\n",
       "  </thead>\n",
       "  <tbody>\n",
       "    <tr>\n",
       "      <th>0</th>\n",
       "      <td>0.224563</td>\n",
       "      <td>51.617058</td>\n",
       "      <td>NaN</td>\n",
       "      <td>0.979305</td>\n",
       "      <td>0.9098</td>\n",
       "      <td>None</td>\n",
       "      <td>count</td>\n",
       "    </tr>\n",
       "    <tr>\n",
       "      <th>1</th>\n",
       "      <td>0.190288</td>\n",
       "      <td>32.592347</td>\n",
       "      <td>300.0</td>\n",
       "      <td>0.723126</td>\n",
       "      <td>0.7050</td>\n",
       "      <td>None</td>\n",
       "      <td>count</td>\n",
       "    </tr>\n",
       "    <tr>\n",
       "      <th>2</th>\n",
       "      <td>0.219263</td>\n",
       "      <td>44.447232</td>\n",
       "      <td>10000.0</td>\n",
       "      <td>0.969263</td>\n",
       "      <td>0.8882</td>\n",
       "      <td>None</td>\n",
       "      <td>count</td>\n",
       "    </tr>\n",
       "    <tr>\n",
       "      <th>3</th>\n",
       "      <td>0.224902</td>\n",
       "      <td>23.655981</td>\n",
       "      <td>NaN</td>\n",
       "      <td>0.913811</td>\n",
       "      <td>0.8752</td>\n",
       "      <td>None</td>\n",
       "      <td>tfidf</td>\n",
       "    </tr>\n",
       "    <tr>\n",
       "      <th>4</th>\n",
       "      <td>0.197340</td>\n",
       "      <td>21.833364</td>\n",
       "      <td>300.0</td>\n",
       "      <td>0.715979</td>\n",
       "      <td>0.6994</td>\n",
       "      <td>None</td>\n",
       "      <td>tfidf</td>\n",
       "    </tr>\n",
       "    <tr>\n",
       "      <th>5</th>\n",
       "      <td>0.231050</td>\n",
       "      <td>22.137742</td>\n",
       "      <td>10000.0</td>\n",
       "      <td>0.902053</td>\n",
       "      <td>0.8610</td>\n",
       "      <td>None</td>\n",
       "      <td>tfidf</td>\n",
       "    </tr>\n",
       "    <tr>\n",
       "      <th>6</th>\n",
       "      <td>0.458802</td>\n",
       "      <td>806.843673</td>\n",
       "      <td>NaN</td>\n",
       "      <td>0.802716</td>\n",
       "      <td>0.7960</td>\n",
       "      <td>CBOW</td>\n",
       "      <td>word2vec</td>\n",
       "    </tr>\n",
       "    <tr>\n",
       "      <th>7</th>\n",
       "      <td>0.417887</td>\n",
       "      <td>409.394810</td>\n",
       "      <td>NaN</td>\n",
       "      <td>0.847968</td>\n",
       "      <td>0.8444</td>\n",
       "      <td>skip-gram</td>\n",
       "      <td>word2vec</td>\n",
       "    </tr>\n",
       "    <tr>\n",
       "      <th>8</th>\n",
       "      <td>0.242338</td>\n",
       "      <td>790.794672</td>\n",
       "      <td>NaN</td>\n",
       "      <td>0.775484</td>\n",
       "      <td>0.7528</td>\n",
       "      <td>online</td>\n",
       "      <td>word2vec</td>\n",
       "    </tr>\n",
       "  </tbody>\n",
       "</table>\n",
       "</div>"
      ],
      "text/plain": [
       "   learning_predict  learning_time  nb_hash  score_train  score_valid  \\\n",
       "0          0.224563      51.617058      NaN     0.979305       0.9098   \n",
       "1          0.190288      32.592347    300.0     0.723126       0.7050   \n",
       "2          0.219263      44.447232  10000.0     0.969263       0.8882   \n",
       "3          0.224902      23.655981      NaN     0.913811       0.8752   \n",
       "4          0.197340      21.833364    300.0     0.715979       0.6994   \n",
       "5          0.231050      22.137742  10000.0     0.902053       0.8610   \n",
       "6          0.458802     806.843673      NaN     0.802716       0.7960   \n",
       "7          0.417887     409.394810      NaN     0.847968       0.8444   \n",
       "8          0.242338     790.794672      NaN     0.775484       0.7528   \n",
       "\n",
       "     typeW2V vectorizer  \n",
       "0       None      count  \n",
       "1       None      count  \n",
       "2       None      count  \n",
       "3       None      tfidf  \n",
       "4       None      tfidf  \n",
       "5       None      tfidf  \n",
       "6       CBOW   word2vec  \n",
       "7  skip-gram   word2vec  \n",
       "8     online   word2vec  "
      ]
     },
     "execution_count": 8,
     "metadata": {},
     "output_type": "execute_result"
    }
   ],
   "source": [
    "pd.DataFrame(metadata_list_lr)"
   ]
  },
  {
   "cell_type": "markdown",
   "metadata": {},
   "source": [
    "# Random Forest"
   ]
  },
  {
   "cell_type": "code",
   "execution_count": 10,
   "metadata": {},
   "outputs": [
    {
     "name": "stdout",
     "output_type": "stream",
     "text": [
      "nb_hash : None, vectorizer : count\n",
      "{'nb_hash': None, 'score_train': 0.9986105263157895, 'typeW2V': None, 'vectorizer': 'count', 'score_valid': 0.86260000000000003, 'learning_time': 429.4773950576782, 'predict_time': 23.091992139816284}\n",
      "nb_hash : 300, vectorizer : count\n",
      "{'nb_hash': 300, 'score_train': 0.99836842105263157, 'typeW2V': None, 'vectorizer': 'count', 'score_valid': 0.7702, 'learning_time': 309.0696289539337, 'predict_time': 10.80103588104248}\n",
      "nb_hash : 10000, vectorizer : count\n",
      "{'nb_hash': 10000, 'score_train': 0.99860000000000004, 'typeW2V': None, 'vectorizer': 'count', 'score_valid': 0.85360000000000003, 'learning_time': 227.18568587303162, 'predict_time': 20.715173959732056}\n",
      "nb_hash : None, vectorizer : tfidf\n",
      "{'nb_hash': None, 'score_train': 0.9986105263157895, 'typeW2V': None, 'vectorizer': 'tfidf', 'score_valid': 0.85160000000000002, 'learning_time': 356.13234305381775, 'predict_time': 21.244513034820557}\n",
      "nb_hash : 300, vectorizer : tfidf\n",
      "{'nb_hash': 300, 'score_train': 0.99835789473684211, 'typeW2V': None, 'vectorizer': 'tfidf', 'score_valid': 0.75700000000000001, 'learning_time': 311.79410004615784, 'predict_time': 10.174279928207397}\n",
      "nb_hash : 10000, vectorizer : tfidf\n",
      "{'nb_hash': 10000, 'score_train': 0.9986105263157895, 'typeW2V': None, 'vectorizer': 'tfidf', 'score_valid': 0.83540000000000003, 'learning_time': 211.8629379272461, 'predict_time': 20.384222984313965}\n"
     ]
    }
   ],
   "source": [
    "from sklearn.ensemble import RandomForestClassifier\n",
    "metadata_list_rf = []\n",
    "\n",
    "parameters = [[None, \"count\"],\n",
    "              [300, \"count\"],\n",
    "              [10000, \"count\"],\n",
    "              [None, \"tfidf\"],\n",
    "              [300, \"tfidf\"],\n",
    "              [10000, \"tfidf\"],]\n",
    "\n",
    "for nb_hash, vectorizer in parameters:\n",
    "    print(\"nb_hash : \" + str(nb_hash) + \", vectorizer : \" + str(vectorizer))\n",
    "    X_train = sparse.load_npz(DATA_DIR +\"/vec_train_nb_hash_\" + str(nb_hash) + \"_vectorizer_\" + str(vectorizer)+\".npz\")\n",
    "    X_valid = sparse.load_npz(DATA_DIR +\"/vec_valid_nb_hash_\" + str(nb_hash) + \"_vectorizer_\" + str(vectorizer)+\".npz\")\n",
    "    ts = time.time()\n",
    "    cla = RandomForestClassifier(n_estimators=100)\n",
    "    cla.fit(X_train,Y_train.values)\n",
    "    te=time.time()\n",
    "    t_learning = te-ts\n",
    "    ts = time.time()\n",
    "    score_train=cla.score(X_train,Y_train)\n",
    "    score_valid=cla.score(X_valid,Y_valid)\n",
    "    te=time.time()\n",
    "    t_predict = te-ts\n",
    "    metadata = {\"typeW2V\": None, \"nb_hash\": nb_hash, \"vectorizer\":vectorizer , \"learning_time\" : t_learning, \"predict_time\":t_predict, \"score_train\": score_train, \"score_valid\": score_valid}\n",
    "    print(metadata)\n",
    "    metadata_list_rf.append(metadata)"
   ]
  },
  {
   "cell_type": "code",
   "execution_count": 11,
   "metadata": {},
   "outputs": [
    {
     "name": "stdout",
     "output_type": "stream",
     "text": [
      "\n",
      "Word2Vec :CBOW\n",
      "{'nb_hash': None, 'score_train': 0.9986105263157895, 'typeW2V': 'CBOW', 'vectorizer': 'word2vec', 'score_valid': 0.8206, 'learning_time': 339.57674407958984, 'predict_time': 5.852169990539551}\n",
      "Word2Vec :skip-gram\n",
      "{'nb_hash': None, 'score_train': 0.99860000000000004, 'typeW2V': 'skip-gram', 'vectorizer': 'word2vec', 'score_valid': 0.85019999999999996, 'learning_time': 362.4189829826355, 'predict_time': 6.2934041023254395}\n",
      "Word2Vec :online\n",
      "{'nb_hash': None, 'score_train': 0.99106315789473687, 'typeW2V': 'online', 'vectorizer': 'word2vec', 'score_valid': 0.73680000000000001, 'learning_time': 316.4473259449005, 'predict_time': 7.3000171184539795}\n"
     ]
    }
   ],
   "source": [
    "print(\"\")\n",
    "\n",
    "for model_name in [\"CBOW\",\"skip-gram\", \"online\"]:\n",
    "    print(\"Word2Vec :\" + model_name)\n",
    "\n",
    "    X_train = np.load(DATA_DIR +\"/embedded_train_nb_hash_\" + model_name+\".npy\")\n",
    "    X_valid = np.load(DATA_DIR +\"/embedded_valid_nb_hash_\" + model_name+\".npy\")\n",
    "    \n",
    "    ts = time.time()\n",
    "    cla = RandomForestClassifier(n_estimators=100)\n",
    "    cla.fit(X_train,Y_train.values)\n",
    "    te=time.time()\n",
    "    t_learning = te-ts\n",
    "    ts = time.time()\n",
    "    score_train=cla.score(X_train,Y_train)\n",
    "    score_valid=cla.score(X_valid,Y_valid)\n",
    "    te=time.time()\n",
    "    t_predict = te-ts\n",
    "    metadata = {\"typeW2V\": model_name ,\"nb_hash\": None, \"vectorizer\":\"word2vec\" ,\"learning_time\" : t_learning, \"predict_time\":t_predict, \"score_train\": score_train, \"score_valid\": score_valid}\n",
    "    print(metadata)\n",
    "    metadata_list_rf.append(metadata)\n"
   ]
  },
  {
   "cell_type": "code",
   "execution_count": null,
   "metadata": {
    "collapsed": true
   },
   "outputs": [],
   "source": [
    "pd.DataFrame(metadata_list_lr)"
   ]
  }
 ],
 "metadata": {
  "hide_input": false,
  "kernelspec": {
   "display_name": "Python [TPInsa]",
   "language": "python",
   "name": "Python [TPInsa]"
  },
  "language_info": {
   "codemirror_mode": {
    "name": "ipython",
    "version": 3
   },
   "file_extension": ".py",
   "mimetype": "text/x-python",
   "name": "python",
   "nbconvert_exporter": "python",
   "pygments_lexer": "ipython3",
   "version": "3.5.3"
  },
  "toc": {
   "nav_menu": {},
   "number_sections": true,
   "sideBar": true,
   "skip_h1_title": false,
   "toc_cell": false,
   "toc_position": {},
   "toc_section_display": "block",
   "toc_window_display": true
  }
 },
 "nbformat": 4,
 "nbformat_minor": 2
}
