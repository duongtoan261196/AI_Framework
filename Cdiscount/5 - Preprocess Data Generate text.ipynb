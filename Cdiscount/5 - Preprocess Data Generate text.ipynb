{
 "cells": [
  {
   "cell_type": "code",
   "execution_count": 1,
   "metadata": {
    "collapsed": true
   },
   "outputs": [],
   "source": [
    "#Importation des librairies utilisées\n",
    "import unicodedata \n",
    "import time\n",
    "import pandas as pd\n",
    "import numpy as np\n",
    "import random\n",
    "import nltk\n",
    "import collections\n",
    "import itertools\n",
    "import csv\n",
    "import warnings\n",
    "import pickle\n",
    "import scipy"
   ]
  },
  {
   "cell_type": "code",
   "execution_count": 2,
   "metadata": {
    "collapsed": true
   },
   "outputs": [],
   "source": [
    "# Répertoire de travail\n",
    "DATA_ORIGINAL_DIR = \"/Users/bguillouet/Insa/TP_Insa/data/\"\n",
    "DATA_DIR = \"/Users/bguillouet/Insa/TP_Insa/data/cdiscount_NLP/text_generation/\"\n",
    "\n",
    "# Nom des fichiers\n",
    "training_reduit_path = DATA_ORIGINAL_DIR + \"Cdiscount_original.csv\"\n",
    "# Variable Globale\n",
    "HEADER_TEST = ['Description','Libelle','Marque']\n",
    "HEADER_TRAIN =['Categorie1','Categorie2','Categorie3','Description','Libelle','Marque']"
   ]
  },
  {
   "cell_type": "code",
   "execution_count": 3,
   "metadata": {
    "collapsed": true
   },
   "outputs": [],
   "source": [
    "Data = pd.read_csv(training_reduit_path, sep=\";\", usecols=[\"Categorie1\",\"Categorie2\",\"Categorie3\", \"Description\"])"
   ]
  },
  {
   "cell_type": "code",
   "execution_count": 4,
   "metadata": {
    "collapsed": true
   },
   "outputs": [],
   "source": [
    "rayon = pd.read_csv(DATA_ORIGINAL_DIR+\"rayon.csv\", sep=\";\")\n",
    "cat1_int_to_name = dict(rayon[[\"Categorie1\",\"Categorie1_Name\"]].values)\n",
    "cat2_int_to_name = dict(rayon[[\"Categorie2\",\"Categorie2_Name\"]].values)\n",
    "cat3_int_to_name = dict(rayon[[\"Categorie3\",\"Categorie3_Name\"]].values)\n",
    "cat1_name_to_int = {v:k for k,v in cat1_int_to_name.items()}\n",
    "cat2_name_to_int = {v:k for k,v in cat2_int_to_name.items()}\n",
    "cat3_name_to_int = {v:k for k,v in cat3_int_to_name.items()}\n",
    "\n",
    "cat3_to_cat2_int = dict(rayon[[\"Categorie3\", \"Categorie2\"]].values)\n",
    "cat2_to_cat1_int = dict(rayon[[\"Categorie2\", \"Categorie1\"]].values)"
   ]
  },
  {
   "cell_type": "code",
   "execution_count": 5,
   "metadata": {},
   "outputs": [
    {
     "data": {
      "text/plain": [
       "[('TELEPHONIE - GPS', 3385618),\n",
       " ('INFORMATIQUE', 2268011),\n",
       " ('LIBRAIRIE', 1894261),\n",
       " ('BIJOUX -  LUNETTES - MONTRES', 957001),\n",
       " ('VETEMENTS - LINGERIE ', 940032)]"
      ]
     },
     "execution_count": 5,
     "metadata": {},
     "output_type": "execute_result"
    }
   ],
   "source": [
    "Most_1 = sorted(collections.Counter(Data[\"Categorie1\"]).items(), key=lambda x : x[1], reverse=True)[:5]\n",
    "Most_1_name = [(cat1_int_to_name[x[0]],x[1]) for x in Most_1 ]\n",
    "Most_1_name"
   ]
  },
  {
   "cell_type": "code",
   "execution_count": 6,
   "metadata": {},
   "outputs": [
    {
     "data": {
      "text/plain": [
       "[('TELEPHONIE - GPS', 'ACCESSOIRE TELEPHONE', 3339659),\n",
       " ('INFORMATIQUE', 'CONNECTIQUE - ALIMENTATION', 1502006),\n",
       " ('LIBRAIRIE', 'AUTRES LIVRES', 1029314),\n",
       " ('BIJOUX -  LUNETTES - MONTRES', 'BIJOUX', 627932),\n",
       " ('AUTO - MOTO (NEW)', 'PIECES', 546438)]"
      ]
     },
     "execution_count": 6,
     "metadata": {},
     "output_type": "execute_result"
    }
   ],
   "source": [
    "Most_2 = sorted(collections.Counter(Data[\"Categorie2\"]).items(), key=lambda x : x[1], reverse=True)[:5]\n",
    "Most_2_name = [(cat1_int_to_name[cat2_to_cat1_int[x[0]]], cat2_int_to_name[x[0]],x[1]) for x in Most_2 ]\n",
    "Most_2_name"
   ]
  },
  {
   "cell_type": "code",
   "execution_count": 7,
   "metadata": {},
   "outputs": [
    {
     "data": {
      "text/plain": [
       "[('TELEPHONIE - GPS',\n",
       "  'ACCESSOIRE TELEPHONE',\n",
       "  'COQUE - BUMPER - FACADE TELEPHONE',\n",
       "  2184671),\n",
       " ('LIBRAIRIE', 'AUTRES LIVRES', 'AUTRES LIVRES', 1029314),\n",
       " ('INFORMATIQUE', 'CONNECTIQUE - ALIMENTATION', 'BATTERIE', 852745),\n",
       " ('INFORMATIQUE',\n",
       "  'CONNECTIQUE - ALIMENTATION',\n",
       "  'CHARGEUR - ADAPTATEUR SECTEUR - ALLUME CIGARE - SOLAIRE',\n",
       "  577345),\n",
       " ('TELEPHONIE - GPS',\n",
       "  'ACCESSOIRE TELEPHONE',\n",
       "  'HOUSSE - ETUI - CHAUSSETTE',\n",
       "  420558),\n",
       " ('DECO - LINGE - LUMINAIRE',\n",
       "  'DECORATION MURALE - TABLEAU - CADRE PHOTO - STICKER',\n",
       "  'STICKERS - LETTRES ADHESIVES',\n",
       "  308329),\n",
       " ('BIJOUX -  LUNETTES - MONTRES', 'MONTRES', 'MONTRE BRACELET', 263559),\n",
       " ('VETEMENTS - LINGERIE ', 'T-SHIRT - DEBARDEUR', 'T-SHIRT', 245118),\n",
       " ('CULTURE / JEUX', 'MUSIQUE', 'CD', 218889),\n",
       " ('INFORMATIQUE', 'COMPOSANT - PIECE DETACHEE', \"DALLE D'ECRAN\", 185945)]"
      ]
     },
     "execution_count": 7,
     "metadata": {},
     "output_type": "execute_result"
    }
   ],
   "source": [
    "Most_3 = sorted(collections.Counter(Data[\"Categorie3\"]).items(), key=lambda x : x[1], reverse=True)[:10]\n",
    "Most_3_name = [(cat1_int_to_name[cat2_to_cat1_int[cat3_to_cat2_int[x[0]]]], cat2_int_to_name[cat3_to_cat2_int[x[0]]], cat3_int_to_name[x[0]],x[1]) for x in Most_3 ]\n",
    "Most_3_name"
   ]
  },
  {
   "cell_type": "markdown",
   "metadata": {},
   "source": [
    "# Coque"
   ]
  },
  {
   "cell_type": "code",
   "execution_count": 8,
   "metadata": {
    "collapsed": true
   },
   "outputs": [],
   "source": [
    "Coque_description = Data[Data.Categorie3==Most_3[0][0]][\"Description\"].values"
   ]
  },
  {
   "cell_type": "markdown",
   "metadata": {},
   "source": [
    "## Char"
   ]
  },
  {
   "cell_type": "code",
   "execution_count": 9,
   "metadata": {
    "collapsed": true
   },
   "outputs": [],
   "source": [
    "dic = collections.Counter(\" \".join(Coque_description))"
   ]
  },
  {
   "cell_type": "code",
   "execution_count": 10,
   "metadata": {
    "scrolled": false
   },
   "outputs": [
    {
     "name": "stdout",
     "output_type": "stream",
     "text": [
      "Caractères : 196\n",
      "['c', 'o', 'q', 'u', 'e', ' ', 't', 'r', 'a', 'n', 's', 'p', 'i', 'h', '5', '-', 'S', 'v', 'm', 'b', 'l', 'é', 'd', 'g', \"'\", ',', 'è', 'f', '/', '.', 'P', 'à', '’', 'C', 'E', 'A', 'M', '4', 'R', 'j', 'O', 'N', 'Y', 'X', 'I', '3', 'y', 'V', 'H', 'B', 'k', 'F', 'W', 'D', 'À', '8', '2', '0', 'x', 'G', '6', '9', 'L', 'U', 'K', 'w', 'ô', 'T', '1', '&', '(', '7', ')', 'J', '!', 'z', ':', '•', 'É', '\\ufeff', '\"', '\\xa0', '…', 'Q', '®', '+', '%', 'ç', '*', 'Z', 'ê', '°', '<', '>', '_', '´', 'â', 'î', 'ó', '?', '`', '„', '”', 'ï', '»', 'Â', 'Ã', '‰', '¿', '™', '«', 'û', '‘', 'œ', '#', 'ö', 'ß', '§', 'Ž', '\\x8f', 'Î', '\\u200b', 'Ê', '$', 'ë', 'È', 'Ç', '=', 'ù', '©', '–', '~', 'Ï', '☆', '€', '（', 'ü', '{', '}', 'Ü', 'ä', 'Ö', 'í', 'Ì', '¬', ']', 'Œ', 'æ', '\\x90', 'å', 'ñ', '£', 'Ⅲ', '）', '²', '\\x92', '^', '♥', '★', '—', '，', '·', '@', '\\x9c', '¨', 'ª', '\\x8d', '[', '\\x8c', '̂', 'Ô', '|', 'Æ', 'Ë', '\\\\', '¾', '½', '“', '◾', 'Ä', 'ã', '\\x80', '×', 'ˆ', 'º', 'á', 'Á', '¢', 'Û', '³', '̀', '́', '\\u2028', '¥', 'Å', 'ò'] 196\n",
      "\n",
      "Caractères Reduit : 88\n",
      "[' ', '!', '\"', '%', '&', \"'\", '(', ')', '*', '+', ',', '-', '.', '/', '0', '1', '2', '3', '4', '5', '6', '7', '8', '9', ':', '?', 'A', 'B', 'C', 'D', 'E', 'F', 'G', 'H', 'I', 'J', 'K', 'L', 'M', 'N', 'O', 'P', 'Q', 'R', 'S', 'T', 'U', 'V', 'W', 'X', 'Y', 'Z', 'a', 'b', 'c', 'd', 'e', 'f', 'g', 'h', 'i', 'j', 'k', 'l', 'm', 'n', 'o', 'p', 'q', 'r', 's', 't', 'u', 'v', 'w', 'x', 'y', 'z', '\\xa0', 'à', 'â', 'ç', 'è', 'é', 'ê', 'ô', '–', '…']\n",
      "’À•É﻿®°<>_´îó`„”ï»ÂÃ‰¿™«û‘œ#öß§ŽÎ​Ê$ëÈÇ=ù©~Ï☆€（ü{}ÜäÖíÌ¬]Œæåñ£Ⅲ）²^♥★—，·@¨ª[̂Ô|ÆË\\¾½“◾Äã×ˆºáÁ¢Û³̀́ ",
      "¥Åò\n",
      "\n",
      "Caractères Reduit Minuscule : 62\n",
      "['y', '9', 'à', 'n', '–', '7', '(', '…', 'd', 'f', 'm', 'h', 'è', 'w', 'x', '*', 'ç', '\"', 'c', 'z', 'p', '&', '1', 'a', '6', 'g', ')', ' ', \"'\", '+', 'b', 'u', '5', 'j', 'ê', '2', '8', ':', 'i', 'o', '3', 'r', 't', '.', 'â', '/', 's', 'l', '0', '\\xa0', 'é', '%', 'ô', 'v', 'e', '?', 'k', 'q', '!', '-', '4', ',']\n",
      "ABCDEFGHIJKLMNOPQRSTUVWXYZ\n"
     ]
    }
   ],
   "source": [
    "char = list(dic.keys())\n",
    "N_char = len(char)\n",
    "print(\"Caractères : %d\" %N_char)\n",
    "print(char, N_char)\n",
    "\n",
    "char_reduit = sorted([k[0] for k in sorted(dic.items(), key = lambda x : x[1], reverse=True) if k[1]>18000])\n",
    "remove_char_reduit = \"\".join([k for k in char if not(k in char_reduit)])\n",
    "N_char_reduit = len(char_reduit)\n",
    "print(\"\\nCaractères Reduit : %d\" %N_char_reduit)\n",
    "print(char_reduit)\n",
    "print(remove_char_reduit)\n",
    "\n",
    "char_reduit_min = list(set([k.lower() for k in char_reduit]))\n",
    "remove_char_reduit_min = \"\".join([k for k in char_reduit if not(k in char_reduit_min)])\n",
    "\n",
    "N_char_reduit_min = len(char_reduit_min)\n",
    "print(\"\\nCaractères Reduit Minuscule : %d\" %N_char_reduit_min)\n",
    "print(char_reduit_min)\n",
    "print(remove_char_reduit_min)"
   ]
  },
  {
   "cell_type": "markdown",
   "metadata": {},
   "source": [
    "### All caractères"
   ]
  },
  {
   "cell_type": "code",
   "execution_count": 11,
   "metadata": {},
   "outputs": [
    {
     "name": "stdout",
     "output_type": "stream",
     "text": [
      "[(197, 1819954), (196, 149282), (150, 20203), (195, 15333), (175, 12967)]\n",
      "1819954\n"
     ]
    }
   ],
   "source": [
    "print(sorted(collections.Counter([len(x) for x in Coque_description]).items(), key=lambda x : x[1], reverse=True)[:5])\n",
    "Coque_description_all_char_197 = np.array([x for x in Coque_description if len(x)==197])\n",
    "print(len(Coque_description_all_char_197))\n",
    "np.save(DATA_DIR+\"Coque_description_all_char_197.npy\", Coque_description_all_char_197)\n",
    "pickle.dump(char, open(DATA_DIR+\"all_char_list\", \"wb\"))"
   ]
  },
  {
   "cell_type": "markdown",
   "metadata": {},
   "source": [
    "### Caractères réduit"
   ]
  },
  {
   "cell_type": "code",
   "execution_count": 12,
   "metadata": {},
   "outputs": [
    {
     "name": "stdout",
     "output_type": "stream",
     "text": [
      "[(197, 1761637), (196, 170366), (195, 45070), (150, 16222), (175, 11869)]\n",
      "1761637\n"
     ]
    }
   ],
   "source": [
    "remove_dic = {ord(k) : None for k in remove_char_reduit}\n",
    "Coque_description_char_reduit = [x.translate(remove_dic) for x in Coque_description]\n",
    "print(sorted(collections.Counter([len(x) for x in Coque_description_char_reduit]).items(), key=lambda x : x[1], reverse=True)[:5])\n",
    "Coque_description_char_reduit_197 = np.array([x for x in Coque_description_char_reduit if len(x)==197])\n",
    "print(len(Coque_description_char_reduit_197))\n",
    "\n",
    "np.save(DATA_DIR+\"Coque_description_char_reduit_197.npy\", Coque_description_char_reduit_197)\n",
    "pickle.dump(char_reduit, open(DATA_DIR+\"char_reduit_list\", \"wb\"))\n"
   ]
  },
  {
   "cell_type": "markdown",
   "metadata": {},
   "source": [
    "## Word"
   ]
  },
  {
   "cell_type": "code",
   "execution_count": 16,
   "metadata": {
    "collapsed": true
   },
   "outputs": [],
   "source": [
    "words = list(collections.Counter(\" \".join(Coque_description).split(\" \")))"
   ]
  },
  {
   "cell_type": "code",
   "execution_count": 17,
   "metadata": {},
   "outputs": [
    {
     "data": {
      "text/plain": [
       "110337"
      ]
     },
     "execution_count": 17,
     "metadata": {},
     "output_type": "execute_result"
    }
   ],
   "source": [
    "len(words)"
   ]
  },
  {
   "cell_type": "code",
   "execution_count": 13,
   "metadata": {
    "collapsed": true
   },
   "outputs": [],
   "source": [
    "nb_words_description = [len(x.split(\" \")) for x in Coque_description]\n",
    "Coque_description_34_word = np.array([x for x,y in zip(Coque_description, nb_words_description) if y==34 ])"
   ]
  },
  {
   "cell_type": "code",
   "execution_count": 14,
   "metadata": {},
   "outputs": [
    {
     "data": {
      "text/plain": [
       "2184671"
      ]
     },
     "execution_count": 14,
     "metadata": {},
     "output_type": "execute_result"
    }
   ],
   "source": []
  },
  {
   "cell_type": "code",
   "execution_count": 15,
   "metadata": {},
   "outputs": [
    {
     "data": {
      "text/plain": [
       "array([ \"Pour apple iphone 4 : coque bumper silicone blanc - Cet étui en silicone rigide protège et habille votre APPLE iPhone 4. Parfaitement adapté, il permet l'accès à toutes les fo… Voir la présentation\",\n",
       "       \"Pour htc one x : coque noire rigide - Cette coque protège et habille avec sobriété votre HTC ONE X. Parfaitement adaptée, elle permet l'accès à toutes les fonctionnalités de v… Voir la présentation\",\n",
       "       \"Pour htc one x : coque blanche rigide - Cette coque protège et habille avec sobriété votre HTC ONE X. Parfaitement adaptée, elle permet l'accès à toutes les fonctionnalités de… Voir la présentation\",\n",
       "       ...,\n",
       "       'Coque iPhone 4/4S Zadig & Voltaire-Argent - Coque pour iPhone 4 et 4s Zadig & Voltaire -ArgentLa célèbre marque de vêtement griffe une superbe coque pour iPhone 4/4S en alu ar… Voir la présentation',\n",
       "       \"APPLE IPHONEY5Y-EXTREME DRY- SCREEN - Zagg InvisibleSHIELD, iPhone 5/5S/5C. Compatibilité de marque: Apple, Type d'appareil: Mobile/smartphone, Compatibilité: iPhone 5/5S/5C. … Voir la présentation\",\n",
       "       'Coque Zenus Prestige Vintage Signage Diary Series pour Samsung Galaxy S3 i9300 [Marron Vintage] - Fabriquant :\\xa0Zenus\\ufeffModel :\\xa0Samsung Galaxy S3\\xa0i9300\\ufeffType :\\xa0CoqueCouleur :\\xa0Marr… Voir la présentation'],\n",
       "      dtype='<U197')"
      ]
     },
     "execution_count": 15,
     "metadata": {},
     "output_type": "execute_result"
    }
   ],
   "source": [
    "Coque_description_all_char_197"
   ]
  },
  {
   "cell_type": "code",
   "execution_count": null,
   "metadata": {
    "collapsed": true
   },
   "outputs": [],
   "source": []
  }
 ],
 "metadata": {
  "hide_input": false,
  "kernelspec": {
   "display_name": "Python [DeepLearning]",
   "language": "python",
   "name": "Python [DeepLearning]"
  },
  "language_info": {
   "codemirror_mode": {
    "name": "ipython",
    "version": 3
   },
   "file_extension": ".py",
   "mimetype": "text/x-python",
   "name": "python",
   "nbconvert_exporter": "python",
   "pygments_lexer": "ipython3",
   "version": "3.6.1"
  },
  "toc": {
   "nav_menu": {},
   "number_sections": true,
   "sideBar": true,
   "skip_h1_title": false,
   "toc_cell": false,
   "toc_position": {},
   "toc_section_display": "block",
   "toc_window_display": false
  }
 },
 "nbformat": 4,
 "nbformat_minor": 2
}
